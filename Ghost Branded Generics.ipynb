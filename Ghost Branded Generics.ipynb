{
 "cells": [
  {
   "cell_type": "code",
   "execution_count": 1,
   "metadata": {},
   "outputs": [],
   "source": [
    "import pandas as pd\n",
    "import numpy as np\n",
    "from ebmdatalab import bq, maps, charts\n",
    "import matplotlib.pyplot as plt\n",
    "import matplotlib.gridspec as gridspec"
   ]
  },
  {
   "cell_type": "markdown",
   "metadata": {},
   "source": [
    "# Get data from OpenPrescribing GBG measure equivalent view"
   ]
  },
  {
   "cell_type": "code",
   "execution_count": 2,
   "metadata": {
    "lines_to_next_cell": 2
   },
   "outputs": [],
   "source": [
    "sql = \"\"\"\n",
    "SELECT\n",
    "  date(month) as month,\n",
    "  pct,\n",
    "  practice,\n",
    "  SUM(CASE WHEN (possible_savings >= 2\n",
    "    OR possible_savings <=-2) THEN items ELSE 0 END) AS items,\n",
    "  SUM(CASE WHEN (possible_savings >= 2\n",
    "    OR possible_savings <=-2) THEN possible_savings ELSE 0 END) AS possible_savings,\n",
    "  SUM(net_cost) AS net_cost\n",
    "FROM\n",
    "  ebmdatalab.alex.vw__ghost_generic_measure_paper_2019_08\n",
    "INNER JOIN\n",
    "  ebmdatalab.hscic.practices\n",
    "ON\n",
    "  practice = code\n",
    "  AND setting = 4\n",
    "where\n",
    "month <= \"2019-05-01\"  ##this is the latest month of data when the data is extracted. \n",
    "GROUP BY\n",
    "  month,\n",
    "  pct,\n",
    "  practice\n",
    "\"\"\"\n",
    "ghost_df = bq.cached_read(sql, csv_path='ghost_generics.zip',use_cache=True)"
   ]
  },
  {
   "cell_type": "code",
   "execution_count": 3,
   "metadata": {
    "scrolled": false
   },
   "outputs": [
    {
     "data": {
      "text/html": [
       "<div>\n",
       "<style scoped>\n",
       "    .dataframe tbody tr th:only-of-type {\n",
       "        vertical-align: middle;\n",
       "    }\n",
       "\n",
       "    .dataframe tbody tr th {\n",
       "        vertical-align: top;\n",
       "    }\n",
       "\n",
       "    .dataframe thead th {\n",
       "        text-align: right;\n",
       "    }\n",
       "</style>\n",
       "<table border=\"1\" class=\"dataframe\">\n",
       "  <thead>\n",
       "    <tr style=\"text-align: right;\">\n",
       "      <th></th>\n",
       "      <th>month</th>\n",
       "      <th>pct</th>\n",
       "      <th>practice</th>\n",
       "      <th>items</th>\n",
       "      <th>possible_savings</th>\n",
       "      <th>net_cost</th>\n",
       "    </tr>\n",
       "  </thead>\n",
       "  <tbody>\n",
       "    <tr>\n",
       "      <th>0</th>\n",
       "      <td>2014-03-01</td>\n",
       "      <td>03Q</td>\n",
       "      <td>B82026</td>\n",
       "      <td>1065</td>\n",
       "      <td>64.9390</td>\n",
       "      <td>171882.52</td>\n",
       "    </tr>\n",
       "    <tr>\n",
       "      <th>1</th>\n",
       "      <td>2014-03-01</td>\n",
       "      <td>03N</td>\n",
       "      <td>C88077</td>\n",
       "      <td>11</td>\n",
       "      <td>6.8506</td>\n",
       "      <td>37022.98</td>\n",
       "    </tr>\n",
       "    <tr>\n",
       "      <th>2</th>\n",
       "      <td>2014-03-01</td>\n",
       "      <td>05T</td>\n",
       "      <td>Y03602</td>\n",
       "      <td>1</td>\n",
       "      <td>-2.4335</td>\n",
       "      <td>25838.12</td>\n",
       "    </tr>\n",
       "    <tr>\n",
       "      <th>3</th>\n",
       "      <td>2014-03-01</td>\n",
       "      <td>04C</td>\n",
       "      <td>C82614</td>\n",
       "      <td>2</td>\n",
       "      <td>-2.3350</td>\n",
       "      <td>21840.09</td>\n",
       "    </tr>\n",
       "    <tr>\n",
       "      <th>4</th>\n",
       "      <td>2014-03-01</td>\n",
       "      <td>07N</td>\n",
       "      <td>G83066</td>\n",
       "      <td>9</td>\n",
       "      <td>-0.5510</td>\n",
       "      <td>58291.17</td>\n",
       "    </tr>\n",
       "  </tbody>\n",
       "</table>\n",
       "</div>"
      ],
      "text/plain": [
       "        month  pct practice  items  possible_savings   net_cost\n",
       "0  2014-03-01  03Q   B82026   1065           64.9390  171882.52\n",
       "1  2014-03-01  03N   C88077     11            6.8506   37022.98\n",
       "2  2014-03-01  05T   Y03602      1           -2.4335   25838.12\n",
       "3  2014-03-01  04C   C82614      2           -2.3350   21840.09\n",
       "4  2014-03-01  07N   G83066      9           -0.5510   58291.17"
      ]
     },
     "execution_count": 3,
     "metadata": {},
     "output_type": "execute_result"
    }
   ],
   "source": [
    "ghost_df.head()"
   ]
  },
  {
   "cell_type": "code",
   "execution_count": 4,
   "metadata": {},
   "outputs": [
    {
     "data": {
      "text/plain": [
       "'2019-05-01'"
      ]
     },
     "execution_count": 4,
     "metadata": {},
     "output_type": "execute_result"
    }
   ],
   "source": [
    "ghost_df.month.max()"
   ]
  },
  {
   "cell_type": "markdown",
   "metadata": {},
   "source": [
    "## Practice Level Data"
   ]
  },
  {
   "cell_type": "code",
   "execution_count": 5,
   "metadata": {},
   "outputs": [
    {
     "data": {
      "text/html": [
       "<div>\n",
       "<style scoped>\n",
       "    .dataframe tbody tr th:only-of-type {\n",
       "        vertical-align: middle;\n",
       "    }\n",
       "\n",
       "    .dataframe tbody tr th {\n",
       "        vertical-align: top;\n",
       "    }\n",
       "\n",
       "    .dataframe thead th {\n",
       "        text-align: right;\n",
       "    }\n",
       "</style>\n",
       "<table border=\"1\" class=\"dataframe\">\n",
       "  <thead>\n",
       "    <tr style=\"text-align: right;\">\n",
       "      <th></th>\n",
       "      <th>month</th>\n",
       "      <th>pct</th>\n",
       "      <th>practice</th>\n",
       "      <th>items</th>\n",
       "      <th>possible_savings</th>\n",
       "      <th>net_cost</th>\n",
       "      <th>calc_val</th>\n",
       "    </tr>\n",
       "  </thead>\n",
       "  <tbody>\n",
       "    <tr>\n",
       "      <th>671188</th>\n",
       "      <td>2013-05-01</td>\n",
       "      <td>00K</td>\n",
       "      <td>A81001</td>\n",
       "      <td>3</td>\n",
       "      <td>3.2850</td>\n",
       "      <td>32039.11</td>\n",
       "      <td>0.010253</td>\n",
       "    </tr>\n",
       "    <tr>\n",
       "      <th>777714</th>\n",
       "      <td>2013-06-01</td>\n",
       "      <td>00K</td>\n",
       "      <td>A81001</td>\n",
       "      <td>3</td>\n",
       "      <td>-2.1272</td>\n",
       "      <td>27799.60</td>\n",
       "      <td>-0.007652</td>\n",
       "    </tr>\n",
       "    <tr>\n",
       "      <th>52515</th>\n",
       "      <td>2013-07-01</td>\n",
       "      <td>00K</td>\n",
       "      <td>A81001</td>\n",
       "      <td>0</td>\n",
       "      <td>0.0000</td>\n",
       "      <td>30349.69</td>\n",
       "      <td>0.000000</td>\n",
       "    </tr>\n",
       "    <tr>\n",
       "      <th>153854</th>\n",
       "      <td>2013-08-01</td>\n",
       "      <td>00K</td>\n",
       "      <td>A81001</td>\n",
       "      <td>3</td>\n",
       "      <td>3.3522</td>\n",
       "      <td>30766.65</td>\n",
       "      <td>0.010896</td>\n",
       "    </tr>\n",
       "    <tr>\n",
       "      <th>259837</th>\n",
       "      <td>2013-09-01</td>\n",
       "      <td>00K</td>\n",
       "      <td>A81001</td>\n",
       "      <td>1</td>\n",
       "      <td>32.1800</td>\n",
       "      <td>29514.69</td>\n",
       "      <td>0.109030</td>\n",
       "    </tr>\n",
       "  </tbody>\n",
       "</table>\n",
       "</div>"
      ],
      "text/plain": [
       "            month  pct practice  items  possible_savings  net_cost  calc_val\n",
       "671188 2013-05-01  00K   A81001      3            3.2850  32039.11  0.010253\n",
       "777714 2013-06-01  00K   A81001      3           -2.1272  27799.60 -0.007652\n",
       "52515  2013-07-01  00K   A81001      0            0.0000  30349.69  0.000000\n",
       "153854 2013-08-01  00K   A81001      3            3.3522  30766.65  0.010896\n",
       "259837 2013-09-01  00K   A81001      1           32.1800  29514.69  0.109030"
      ]
     },
     "execution_count": 5,
     "metadata": {},
     "output_type": "execute_result"
    }
   ],
   "source": [
    "practice = ghost_df.copy()\n",
    "practice['calc_val'] = (practice['possible_savings']/practice['net_cost'])*100\n",
    "practice['month'] = pd.to_datetime(practice['month'])\n",
    "practice = practice.sort_values(['practice','month'])\n",
    "practice = practice.loc[practice['month']>='2013-05-01'] ##ncso rules were different before this\n",
    "practice = practice.replace([np.inf, -np.inf], np.nan)\n",
    "practice.head()"
   ]
  },
  {
   "cell_type": "code",
   "execution_count": null,
   "metadata": {},
   "outputs": [],
   "source": [
    "practice.nunique()"
   ]
  },
  {
   "cell_type": "code",
   "execution_count": null,
   "metadata": {},
   "outputs": [],
   "source": [
    "## here we describe ranges for Decmebr 2018 - month of surfacing  the issue\n",
    "df_practice_dec18 = practice.copy().loc[(practice[\"month\"]== \"2018-12-01\")]\n",
    "df_practice_dec18.describe()"
   ]
  },
  {
   "cell_type": "code",
   "execution_count": null,
   "metadata": {},
   "outputs": [],
   "source": [
    "df_practice_dec18.nunique()"
   ]
  },
  {
   "cell_type": "code",
   "execution_count": null,
   "metadata": {},
   "outputs": [],
   "source": [
    "df_practice_dec18.possible_savings.quantile(0.6)"
   ]
  },
  {
   "cell_type": "code",
   "execution_count": null,
   "metadata": {},
   "outputs": [],
   "source": [
    "df_practice_dec18.calc_val.quantile(0.99)"
   ]
  },
  {
   "cell_type": "markdown",
   "metadata": {},
   "source": [
    "## Get Data on EHRs"
   ]
  },
  {
   "cell_type": "code",
   "execution_count": null,
   "metadata": {},
   "outputs": [],
   "source": [
    "epr = pd.read_csv('GPSoC/complete.csv')\n",
    "epr = epr.rename(index=str, columns={\"Principal Supplier\": \"Principal_Supplier\",\n",
    "                                     \"Principal System\": \"Principal_System\"})\n",
    "epr['Date'] = pd.to_datetime(epr['Date'])\n",
    "epr.loc[epr['Principal_Supplier']=='TPP','Principal_Supplier'] = 'SystmOne'\n",
    "epr.loc[epr['Principal_Supplier']=='INPS','Principal_Supplier'] = 'Vision'\n",
    "epr = epr.drop('Unnamed: 0', axis=1)\n",
    "epr.head(5)"
   ]
  },
  {
   "cell_type": "code",
   "execution_count": null,
   "metadata": {},
   "outputs": [],
   "source": [
    "numbers = practice[['month','practice', 'possible_savings','net_cost']]\n",
    "first = epr.loc[epr['Date']=='2016-03-01',['ODS','Principal_Supplier']]\n",
    "last = epr.loc[epr['Date']=='2018-12-01',['ODS','Principal_Supplier']]\n",
    "by_epr = numbers.merge(epr, how='left', left_on=['practice','month'], right_on=['ODS','Date'])\n",
    "by_epr = by_epr.merge(first,\n",
    "                      how='left',\n",
    "                      left_on='practice',\n",
    "                      right_on='ODS',\n",
    "                      suffixes=('','_first')\n",
    "                     )\n",
    "'''by_epr = by_epr.merge(last,\n",
    "                      how='left',\n",
    "                      left_on='practice',\n",
    "                      right_on='ODS',\n",
    "                      suffixes=('','_last')\n",
    "                     )'''\n",
    "by_epr.loc[by_epr['month']<'2016-03-01','Principal_Supplier'] = by_epr.loc[by_epr['month']<'2016-03-01','Principal_Supplier_first']\n",
    "#by_epr.loc[by_epr['month']>'2018-12-01','Principal_Supplier'] = by_epr.loc[by_epr['month']>'2018-12-01','Principal_Supplier_last']\n",
    "by_epr = by_epr.drop(columns=['Date',\n",
    "                              'ODS',\n",
    "                              'Principal_System',\n",
    "                              'ODS_first',\n",
    "                              'Principal_Supplier_first'])#,\n",
    "                              #'ODS_last',\n",
    "                              #'Principal_Supplier_last'])\n",
    "by_epr['Principal_Supplier'] = by_epr['Principal_Supplier'].str.strip()\n",
    "by_epr2 = by_epr.groupby(['month','Principal_Supplier']).sum()\n",
    "by_epr2 = by_epr2.unstack()\n",
    "by_epr2.head(5)"
   ]
  },
  {
   "cell_type": "code",
   "execution_count": null,
   "metadata": {
    "scrolled": false
   },
   "outputs": [],
   "source": [
    "by_epr.sort_values('month')"
   ]
  },
  {
   "cell_type": "code",
   "execution_count": null,
   "metadata": {},
   "outputs": [],
   "source": [
    "ehr_by_ccg = pd.merge(by_epr, practice[['practice', 'month' ,'calc_val']].drop_duplicates(), left_on=['practice', 'month'], right_on= ['practice', 'month'], how='left')\n",
    "ehr_by_ccg.head(5)"
   ]
  },
  {
   "cell_type": "code",
   "execution_count": null,
   "metadata": {},
   "outputs": [],
   "source": [
    "df_sysone_prac = ehr_by_ccg.loc[ehr_by_ccg['Principal_Supplier']=='SystmOne']\n",
    "df_sysone_prac.head(5)"
   ]
  },
  {
   "cell_type": "code",
   "execution_count": null,
   "metadata": {},
   "outputs": [],
   "source": [
    "##here we show ranges for December 2018\n",
    "df_sysymone_dec18 = df_sysone_prac.copy().loc[(df_sysone_prac[\"month\"]== \"2018-12-01\")]\n",
    "df_sysymone_dec18.describe()"
   ]
  },
  {
   "cell_type": "code",
   "execution_count": null,
   "metadata": {},
   "outputs": [],
   "source": [
    "##here we calculate the measure value at the 99th centile for systmone\n",
    "df_sysymone_dec18.calc_val.quantile(0.99)"
   ]
  },
  {
   "cell_type": "code",
   "execution_count": null,
   "metadata": {},
   "outputs": [],
   "source": [
    "df_emis_prac = ehr_by_ccg.loc[ehr_by_ccg['Principal_Supplier']=='EMIS']\n",
    "\n",
    "\n"
   ]
  },
  {
   "cell_type": "code",
   "execution_count": null,
   "metadata": {},
   "outputs": [],
   "source": [
    "df_emis_dec18 = df_emis_prac.copy().loc[(df_emis_prac[\"month\"]== \"2018-12-01\")]\n",
    "df_emis_dec18.calc_val.quantile(0.99)"
   ]
  },
  {
   "cell_type": "markdown",
   "metadata": {},
   "source": [
    "# CCG level data"
   ]
  },
  {
   "cell_type": "code",
   "execution_count": null,
   "metadata": {
    "scrolled": true
   },
   "outputs": [],
   "source": [
    "ccg = ghost_df.copy()\n",
    "ccg['month'] = pd.to_datetime(ccg['month'])\n",
    "ccg = ccg.groupby(['pct','month'],as_index=False).sum()\n",
    "ccg['calc_val'] = (ccg['possible_savings']/ccg['net_cost'])*100\n",
    "ccg = ccg.sort_values(['pct','month'])\n",
    "ccg = ccg.loc[ccg['month']>='2013-05-01']\n",
    "ccg = ccg.replace([np.inf, -np.inf], np.nan)\n",
    "#ccg = ccg.dropna(axis=0)\n",
    "\n",
    "ccg.head()"
   ]
  },
  {
   "cell_type": "code",
   "execution_count": null,
   "metadata": {},
   "outputs": [],
   "source": [
    "##this is finding those CCGs who have changed\n",
    "top_n = ccg.loc[ccg['month']=='2019-01-01']\n",
    "top_n = top_n.sort_values('calc_val',ascending=False)\n",
    "top_n = top_n.head(30)\n",
    "before = top_n[['pct','calc_val']].set_index('pct')\n",
    "top_n = top_n[['pct']]\n",
    "top_n = top_n.set_index('pct')\n",
    "\n",
    "most_recent = ccg.loc[ccg['month']==ccg['month'].max(),['pct','calc_val']]\n",
    "most_recent = most_recent.merge(top_n,how='right',left_on='pct',right_index=True)\n",
    "most_recent = most_recent.set_index('pct')\n",
    "\n",
    "'''\n",
    "change = before - most_recent\n",
    "change = change - change.min()\n",
    "change = change / (change.max()-change.min())\n",
    "change = change['calc_val']\n",
    "#change = 1-change\n",
    "'''\n",
    "change = before - most_recent\n",
    "change = change / before\n",
    "change = change['calc_val']\n",
    "\n",
    "ccg_unstacked = ccg.loc[ccg['month']>='2016-06-01']\n",
    "ccg_unstacked = ccg_unstacked.merge(top_n,how='right',on='pct')\n",
    "ccg_unstacked = ccg_unstacked.groupby(['month','pct']).sum()\n",
    "ccg_unstacked = ccg_unstacked.unstack()\n",
    "\n",
    "#from matplotlib import cm\n",
    "#colors = [cm.coolwarm(x) for x in change]\n",
    "def color_pick(x):\n",
    "    if x < 0.25:\n",
    "        return (0.75,0.75,0.75,0.6)\n",
    "    else:\n",
    "        return (0.9,0.3,0.15,0.8)\n",
    "colors = [color_pick(x) for x in change]\n",
    "\n",
    "f = plt.figure(figsize=(14, 9))\n",
    "layout = gridspec.GridSpec(1, 1, figure=f)\n",
    "ax = plt.subplot(layout[0])\n",
    "ccg_unstacked['calc_val'].plot(ax=ax,color=colors)\n",
    "#ax.axvline('2018-12-01',color='r',linestyle=':', label='DataLab Discover and Announce GBG')\n",
    "#ax.axvline('2019-02-01',color='k',linestyle='--', label='SystmOne deploy fix') ## it was last week of Feb, I think a case for setting as march\n",
    "ax.text('2017-11-01',\n",
    "        0.22,\n",
    "        'CCGs reducing by >25% since January 2019 = {}'.format((change >= 0.25).sum()),\n",
    "        fontsize=14)\n",
    "ax.set_ylabel(' % Excess costs as a percentage of total generic spending')\n",
    "ax.set_ylim(0,)\n",
    "ax.legend().remove()\n",
    "for item in ([ax.title, ax.xaxis.label, ax.yaxis.label] +\n",
    "             ax.get_xticklabels() + ax.get_yticklabels()):\n",
    "    item.set_fontsize(14)\n",
    "plt.savefig(r'gbg_images\\CCGs_that_have_changed.png')\n",
    "plt.show()"
   ]
  },
  {
   "cell_type": "code",
   "execution_count": null,
   "metadata": {},
   "outputs": [],
   "source": [
    "## ensuring the format is consistent for pounds and pence\n",
    "pd.set_option('display.float_format', lambda x: '%.2f' % x)"
   ]
  },
  {
   "cell_type": "code",
   "execution_count": null,
   "metadata": {},
   "outputs": [],
   "source": [
    "## here we calculate ranges for december 2018\n",
    "ccg_dec18 = ccg.copy().loc[(ccg[\"month\"]== \"2018-12-01\")]\n",
    "ccg_dec18.describe()"
   ]
  },
  {
   "cell_type": "markdown",
   "metadata": {},
   "source": [
    "# Most recent month map\n"
   ]
  },
  {
   "cell_type": "code",
   "execution_count": null,
   "metadata": {
    "scrolled": false
   },
   "outputs": [],
   "source": [
    "plt.figure(figsize=(12, 7))\n",
    "ccg_for_map = ccg.loc[ccg['pct']!='112']\n",
    "last_month = ccg_for_map.loc[ccg['month']==ccg['month'].max()]\n",
    "maps.ccg_map(last_month, title=\" May 2019: Excess spend as a % of generic spending\",\n",
    "             column='calc_val', \n",
    "             separate_london=True)\n",
    "plt.savefig(r'gbg_images\\gbg_fig3_ccgmap.png')\n",
    "plt.show()"
   ]
  },
  {
   "cell_type": "markdown",
   "metadata": {},
   "source": [
    "# Declie plots"
   ]
  },
  {
   "cell_type": "code",
   "execution_count": null,
   "metadata": {},
   "outputs": [],
   "source": [
    "f = plt.figure(figsize=(14, 5))\n",
    "#f.suptitle('Sharing Y axis')\n",
    "f.autofmt_xdate()\n",
    "layout = gridspec.GridSpec(1, 2, figure=f)\n",
    "left_plot = plt.subplot(layout[0])\n",
    "right_plot = plt.subplot(layout[1], sharey=left_plot)  # Share the Y axis \n",
    "\n",
    "# ...and because it's shared, suppress ticks on the second chart\n",
    "plt.setp(right_plot.get_yticklabels(), visible=False)\n",
    "\n",
    "charts.deciles_chart(\n",
    "    ccg,\n",
    "    period_column='month',\n",
    "    column='calc_val',\n",
    "    title=\" (a) CCG variation\",\n",
    "    ylabel=\"Excess spend as a\\nproportion of generic spending (%) \",\n",
    "    show_outer_percentiles=True,\n",
    "    show_legend=False,\n",
    "    ax=left_plot,  \n",
    ") \n",
    "\n",
    "\n",
    "charts.deciles_chart(\n",
    "    practice,\n",
    "    period_column='month',\n",
    "    column='calc_val',\n",
    "    title=\" (b) Practice variation\",\n",
    "    ylabel=\"\",\n",
    "    show_outer_percentiles=True,\n",
    "    show_legend=False,\n",
    "    ax=right_plot,\n",
    ") \n",
    "plt.ylim(0, 5)\n",
    "\n",
    "charts.deciles_chart(\n",
    "        df_sysone_prac,\n",
    "        period_column='month',\n",
    "        column='calc_val',\n",
    "        title=\" (c) Practice variation where\\nSystmOne is EHR\",\n",
    "        ylabel= \"Excess spend as a\\nproportion of generic spending (%)\",\n",
    "        show_outer_percentiles=True,\n",
    "        show_legend=True,\n",
    "   \n",
    ")\n",
    "plt.ylim(0, 5)\n",
    "plt.savefig('deciles.png', format='png', dpi=300,bbox_inches='tight')\n",
    "plt.savefig(r'gbg_images\\gbg_fig2_deciles_ccgprac.png')\n",
    "plt.show()"
   ]
  },
  {
   "cell_type": "markdown",
   "metadata": {},
   "source": [
    "# Total items and total excess costs"
   ]
  },
  {
   "cell_type": "code",
   "execution_count": null,
   "metadata": {},
   "outputs": [],
   "source": [
    "totals = practice.groupby('month').sum()"
   ]
  },
  {
   "cell_type": "code",
   "execution_count": null,
   "metadata": {
    "scrolled": false
   },
   "outputs": [],
   "source": [
    "f = plt.figure(figsize=(8, 8))\n",
    "layout = gridspec.GridSpec(2, 1, figure=f)\n",
    "top_plot = plt.subplot(layout[0])\n",
    "bottom_plot = plt.subplot(layout[1], sharex=top_plot)  # Share the Y axis \n",
    "\n",
    "ax = totals['possible_savings'].plot(ax=top_plot)\n",
    "ax.set_ylabel('total excess costs (£)')\n",
    "ax.set_ylim(0,)\n",
    "ax.set_title('Figure 1a Excess Costs')\n",
    "ax = totals['items'].plot(ax=bottom_plot)\n",
    "ax.set_ylabel('total items')\n",
    "ax.set_ylim(0,)\n",
    "ax.set_title('Figure 1b Total Items')\n",
    "plt.savefig('Fig 1.png', format='png', dpi=300,bbox_inches='tight')\n",
    "plt.savefig(r'gbg_images\\gbg_fig1_totalexcess_costitems.png')\n",
    "plt.show()"
   ]
  },
  {
   "cell_type": "markdown",
   "metadata": {},
   "source": [
    "## Annual totals\n",
    "Ignore 2013 and 2019, as they're not complete years"
   ]
  },
  {
   "cell_type": "code",
   "execution_count": null,
   "metadata": {
    "scrolled": true
   },
   "outputs": [],
   "source": [
    "totals[['items','possible_savings','net_cost']].resample('Y').sum()"
   ]
  },
  {
   "cell_type": "markdown",
   "metadata": {},
   "source": [
    "# Stratify by EHR"
   ]
  },
  {
   "cell_type": "markdown",
   "metadata": {},
   "source": [
    "Rerun GPSoC file aggregation if new months need to be added:"
   ]
  },
  {
   "cell_type": "code",
   "execution_count": null,
   "metadata": {},
   "outputs": [],
   "source": [
    "#%run -i \"GPSoC/make_csv.py\""
   ]
  },
  {
   "cell_type": "code",
   "execution_count": null,
   "metadata": {
    "scrolled": false
   },
   "outputs": [],
   "source": [
    "sql = \"\"\"\n",
    "        SELECT\n",
    "          DATE(Date) AS Date,\n",
    "          ODS,\n",
    "          TRIM(Principal_Supplier) AS Principal_Supplier,\n",
    "          TRIM(Principal_System) AS Principal_System\n",
    "        FROM\n",
    "          alex.vendors software\"\"\"\n",
    "epr = bq.cached_read(sql, csv_path='software_vendor.zip')\n",
    "epr['Date'] = pd.to_datetime(epr['Date'])\n",
    "epr.loc[epr['Principal_Supplier']=='TPP','Principal_Supplier'] = 'SystmOne'\n",
    "epr.loc[epr['Principal_Supplier']=='INPS','Principal_Supplier'] = 'Vision'\n",
    "epr.head()"
   ]
  },
  {
   "cell_type": "code",
   "execution_count": null,
   "metadata": {},
   "outputs": [],
   "source": [
    "epr_march19 = epr.loc[epr['Date']=='2019-03-01',['ODS','Principal_Supplier', 'Date']]\n",
    "epr_march19.head(5)"
   ]
  },
  {
   "cell_type": "code",
   "execution_count": null,
   "metadata": {},
   "outputs": [],
   "source": [
    "epr_march19.groupby('Principal_Supplier').count()"
   ]
  },
  {
   "cell_type": "code",
   "execution_count": null,
   "metadata": {},
   "outputs": [],
   "source": [
    "##here we work out practice use of EHR in december for cohort characteristics\n",
    "epr_dec19 = epr.loc[epr['Date']=='2018-12-01',['ODS','Principal_Supplier', 'Date']]\n",
    "epr_dec19.head(5)"
   ]
  },
  {
   "cell_type": "code",
   "execution_count": null,
   "metadata": {},
   "outputs": [],
   "source": [
    "epr_dec19.groupby('Principal_Supplier').count()"
   ]
  },
  {
   "cell_type": "code",
   "execution_count": null,
   "metadata": {},
   "outputs": [],
   "source": [
    "numbers = practice[['month','practice', 'possible_savings','net_cost']]\n",
    "first = epr.loc[epr['Date']=='2016-03-01',['ODS','Principal_Supplier']]\n",
    "last = epr.loc[epr['Date']=='2018-12-01',['ODS','Principal_Supplier']]\n",
    "by_epr = numbers.merge(epr, how='left', left_on=['practice','month'], right_on=['ODS','Date'])\n",
    "by_epr = by_epr.merge(first,\n",
    "                      how='left',\n",
    "                      left_on='practice',\n",
    "                      right_on='ODS',\n",
    "                      suffixes=('','_first')\n",
    "                     )\n",
    "'''by_epr = by_epr.merge(last,\n",
    "                      how='left',\n",
    "                      left_on='practice',\n",
    "                      right_on='ODS',\n",
    "                      suffixes=('','_last')\n",
    "                     )'''\n",
    "by_epr.loc[by_epr['month']<'2016-03-01','Principal_Supplier'] = by_epr.loc[by_epr['month']<'2016-03-01','Principal_Supplier_first']\n",
    "#by_epr.loc[by_epr['month']>'2018-12-01','Principal_Supplier'] = by_epr.loc[by_epr['month']>'2018-12-01','Principal_Supplier_last']\n",
    "by_epr = by_epr.drop(columns=['Date',\n",
    "                              'ODS',\n",
    "                              'Principal_System',\n",
    "                              'ODS_first',\n",
    "                              'Principal_Supplier_first'])#,\n",
    "                              #'ODS_last',\n",
    "                              #'Principal_Supplier_last'])\n",
    "by_epr['Principal_Supplier'] = by_epr['Principal_Supplier'].str.strip()\n",
    "by_epr2 = by_epr.groupby(['month','Principal_Supplier']).sum()\n",
    "by_epr2 = by_epr2.unstack()\n",
    "by_epr2.head()"
   ]
  },
  {
   "cell_type": "code",
   "execution_count": null,
   "metadata": {},
   "outputs": [],
   "source": [
    "by_epr.head(5)"
   ]
  },
  {
   "cell_type": "markdown",
   "metadata": {},
   "source": [
    "### EHR Usage by CCG - SystmOne Deciles"
   ]
  },
  {
   "cell_type": "code",
   "execution_count": null,
   "metadata": {},
   "outputs": [],
   "source": [
    "ehr_by_ccg = pd.merge(by_epr, practice[['practice', 'month' ,'calc_val']].drop_duplicates(), left_on=['practice', 'month'], right_on= ['practice', 'month'], how='left')\n",
    "ehr_by_ccg.head(5)"
   ]
  },
  {
   "cell_type": "code",
   "execution_count": null,
   "metadata": {},
   "outputs": [],
   "source": [
    "df_sysone_prac = ehr_by_ccg.loc[ehr_by_ccg['Principal_Supplier']=='SystmOne']\n",
    "df_sysone_prac.head(5)"
   ]
  },
  {
   "cell_type": "code",
   "execution_count": null,
   "metadata": {},
   "outputs": [],
   "source": [
    "charts.deciles_chart(\n",
    "        df_sysone_prac,\n",
    "        period_column='month',\n",
    "        column='calc_val',\n",
    "        title=\"SystmOne Deciles\",\n",
    "        ylabel=\"Excess spend as a proportion of generic spending (%) \",\n",
    "        show_outer_percentiles=True,\n",
    "        show_legend=True\n",
    ")\n",
    "plt.savefig('deciles.png', format='png', dpi=300,bbox_inches='tight')\n",
    "plt.savefig(r'gbg_images\\ehrshare_latestmonth.png')\n",
    "plt.show()"
   ]
  },
  {
   "cell_type": "markdown",
   "metadata": {},
   "source": [
    "## Total possible savings"
   ]
  },
  {
   "cell_type": "code",
   "execution_count": null,
   "metadata": {
    "scrolled": false
   },
   "outputs": [],
   "source": [
    "f = plt.figure(figsize=(10, 6))\n",
    "layout = gridspec.GridSpec(1, 1, figure=f)\n",
    "ax = plt.subplot(layout[0])\n",
    "ax = by_epr2['possible_savings'].plot(ax=ax)\n",
    "ax.axvline('2018-12-01',color='r',linestyle=':', label='DataLab Identify GBG')\n",
    "ax.axvline('2019-02-01',color='k',linestyle='--', label='SystmOne deploy fix')\n",
    "ax.set_title('Figure 1c Total excess cost (£) of Ghost Branded Generic Prescribing by general practices \\n in England, grouped by EHR system. May 2013 - May 2019')\n",
    "ax.legend()\n",
    "plt.legend(fontsize=14)\n",
    "ax.set_ylabel('total excess costs (£) ')\n",
    "ax.set_ylim(0,)\n",
    "plt.savefig('savings_by_EHR.png', format='png', dpi=300,bbox_inches='tight')\n",
    "plt.savefig(r'gbg_images\\gbg_fig4_totalcosts_ehr.png')\n",
    "plt.show()"
   ]
  },
  {
   "cell_type": "markdown",
   "metadata": {},
   "source": [
    "## Total savings/total generic prescribing costs"
   ]
  },
  {
   "cell_type": "code",
   "execution_count": null,
   "metadata": {},
   "outputs": [],
   "source": [
    "measure = by_epr2['possible_savings'] / by_epr2['net_cost']\n",
    "measure.head()"
   ]
  },
  {
   "cell_type": "code",
   "execution_count": null,
   "metadata": {
    "scrolled": true
   },
   "outputs": [],
   "source": [
    "measure.plot()\n",
    "plt.savefig(r'gbg_images\\gbg_figx_measures.png')"
   ]
  },
  {
   "cell_type": "markdown",
   "metadata": {},
   "source": [
    "# SystmOne Only"
   ]
  },
  {
   "cell_type": "code",
   "execution_count": null,
   "metadata": {},
   "outputs": [],
   "source": [
    "systmone = by_epr2['possible_savings']['SystmOne']\n",
    "systmone.head()"
   ]
  },
  {
   "cell_type": "code",
   "execution_count": null,
   "metadata": {},
   "outputs": [],
   "source": [
    "f = plt.figure(figsize=(8, 5))\n",
    "layout = gridspec.GridSpec(1, 1, figure=f)\n",
    "ax = plt.subplot(layout[0])\n",
    "ax = systmone.plot(ax=ax)\n",
    "ax.axvline('2018-12-01',color='r',linestyle=':', label='DataLab Identify GBG')\n",
    "ax.axvline('2019-02-01',color='k',linestyle='--', label='SystmOne delpoy fix') ## it was last week of Feb, I think a case for setting as march\n",
    "ax.set_ylabel('total excess costs')\n",
    "ax.set_ylim(0,)\n",
    "ax.legend()\n",
    "plt.savefig('systmone_only.png', format='png', dpi=300,bbox_inches='tight')\n",
    "plt.savefig(r'gbg_images\\gbg_fig5_systmone.png')\n",
    "plt.show()"
   ]
  },
  {
   "cell_type": "markdown",
   "metadata": {},
   "source": [
    "# Top ten GBG chemicals in 2018"
   ]
  },
  {
   "cell_type": "code",
   "execution_count": null,
   "metadata": {},
   "outputs": [],
   "source": [
    "sql = \"\"\"\n",
    "WITH\n",
    "  chem_map AS(\n",
    "  SELECT\n",
    "    DISTINCT chemical_code,\n",
    "    chemical\n",
    "  FROM\n",
    "    ebmdatalab.hscic.bnf)\n",
    "SELECT\n",
    "  SUBSTR(bnf_code,1,9) AS chem_code,\n",
    "  chemical,\n",
    "  SUM(CASE WHEN (possible_savings >= 2\n",
    "    OR possible_savings <=-2) THEN items ELSE 0 END) AS items,\n",
    "  SUM(CASE WHEN (possible_savings >= 2\n",
    "    OR possible_savings <=-2) THEN possible_savings ELSE 0 END) AS excess_spend\n",
    "FROM\n",
    "  ebmdatalab.alex.vw__ghost_generic_measure_paper_2019_08\n",
    "INNER JOIN\n",
    "  ebmdatalab.hscic.practices\n",
    "ON\n",
    "  practice = code\n",
    "  AND setting = 4\n",
    "LEFT JOIN\n",
    "  chem_map\n",
    "ON\n",
    "  SUBSTR(bnf_code,1,9) = chemical_code\n",
    "WHERE\n",
    "  month >= '2018-01-01'\n",
    "  AND month <= '2018-12-01'\n",
    "GROUP BY\n",
    "  chem_code,\n",
    "  chemical\n",
    "ORDER BY\n",
    "  excess_spend DESC\n",
    "\"\"\"\n",
    "by_chem = bq.cached_read(sql, csv_path='by_chem.zip')"
   ]
  },
  {
   "cell_type": "code",
   "execution_count": null,
   "metadata": {},
   "outputs": [],
   "source": [
    "by_chem.head(10)"
   ]
  },
  {
   "cell_type": "code",
   "execution_count": null,
   "metadata": {},
   "outputs": [],
   "source": [
    "by_chem.sort_values('items',ascending=False).head(10)"
   ]
  },
  {
   "cell_type": "code",
   "execution_count": null,
   "metadata": {},
   "outputs": [],
   "source": [
    "plt = maps.ccg_map(\n",
    "    last_month, \n",
    "    title=\"CCG list sizes\", \n",
    "    column='calc_val', \n",
    "    cartogram=True, \n",
    "    separate_london=False)\n",
    "plt.show()"
   ]
  }
 ],
 "metadata": {
  "kernelspec": {
   "display_name": "Python 3",
   "language": "python",
   "name": "python3"
  },
  "language_info": {
   "codemirror_mode": {
    "name": "ipython",
    "version": 3
   },
   "file_extension": ".py",
   "mimetype": "text/x-python",
   "name": "python",
   "nbconvert_exporter": "python",
   "pygments_lexer": "ipython3",
   "version": "3.6.10"
  }
 },
 "nbformat": 4,
 "nbformat_minor": 2
}
