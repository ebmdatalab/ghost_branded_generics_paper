{
 "cells": [
  {
   "cell_type": "code",
   "execution_count": 19,
   "metadata": {},
   "outputs": [],
   "source": [
    "import pandas as pd\n",
    "import numpy as np\n",
    "from ebmdatalab import bq, maps, charts\n",
    "import matplotlib.pyplot as plt\n",
    "import matplotlib.gridspec as gridspec"
   ]
  },
  {
   "cell_type": "markdown",
   "metadata": {},
   "source": [
    "# Get data from OpenPrescribing GBG measure equivalent view"
   ]
  },
  {
   "cell_type": "code",
   "execution_count": 2,
   "metadata": {
    "lines_to_next_cell": 2
   },
   "outputs": [],
   "source": [
    "sql = \"\"\"\n",
    "SELECT\n",
    "  date(month) as month,\n",
    "  pct,\n",
    "  practice,\n",
    "  SUM(CASE WHEN (possible_savings >= 2\n",
    "    OR possible_savings <=-2) THEN items ELSE 0 END) AS items,\n",
    "  SUM(CASE WHEN (possible_savings >= 2\n",
    "    OR possible_savings <=-2) THEN possible_savings ELSE 0 END) AS possible_savings,\n",
    "  SUM(net_cost) AS net_cost\n",
    "FROM\n",
    "  ebmdatalab.alex.vw__ghost_generic_measure_paper_2019_07\n",
    "INNER JOIN\n",
    "  ebmdatalab.hscic.practices\n",
    "ON\n",
    "  practice = code\n",
    "  AND setting = 4\n",
    "GROUP BY\n",
    "  month,\n",
    "  pct,\n",
    "  practice\n",
    "\"\"\"\n",
    "ghost_df = bq.cached_read(sql, csv_path='ghost_generics.zip')"
   ]
  },
  {
   "cell_type": "code",
   "execution_count": 3,
   "metadata": {
    "scrolled": false
   },
   "outputs": [
    {
     "data": {
      "text/html": [
       "<div>\n",
       "<style scoped>\n",
       "    .dataframe tbody tr th:only-of-type {\n",
       "        vertical-align: middle;\n",
       "    }\n",
       "\n",
       "    .dataframe tbody tr th {\n",
       "        vertical-align: top;\n",
       "    }\n",
       "\n",
       "    .dataframe thead th {\n",
       "        text-align: right;\n",
       "    }\n",
       "</style>\n",
       "<table border=\"1\" class=\"dataframe\">\n",
       "  <thead>\n",
       "    <tr style=\"text-align: right;\">\n",
       "      <th></th>\n",
       "      <th>month</th>\n",
       "      <th>pct</th>\n",
       "      <th>practice</th>\n",
       "      <th>items</th>\n",
       "      <th>possible_savings</th>\n",
       "      <th>net_cost</th>\n",
       "    </tr>\n",
       "  </thead>\n",
       "  <tbody>\n",
       "    <tr>\n",
       "      <th>0</th>\n",
       "      <td>2014-03-01</td>\n",
       "      <td>11N</td>\n",
       "      <td>L82012</td>\n",
       "      <td>33</td>\n",
       "      <td>22.9330</td>\n",
       "      <td>123703.15</td>\n",
       "    </tr>\n",
       "    <tr>\n",
       "      <th>1</th>\n",
       "      <td>2014-03-01</td>\n",
       "      <td>04G</td>\n",
       "      <td>K83052</td>\n",
       "      <td>1023</td>\n",
       "      <td>241.9317</td>\n",
       "      <td>104574.57</td>\n",
       "    </tr>\n",
       "    <tr>\n",
       "      <th>2</th>\n",
       "      <td>2014-03-01</td>\n",
       "      <td>04G</td>\n",
       "      <td>K83049</td>\n",
       "      <td>165</td>\n",
       "      <td>-7.5714</td>\n",
       "      <td>46547.20</td>\n",
       "    </tr>\n",
       "    <tr>\n",
       "      <th>3</th>\n",
       "      <td>2014-03-01</td>\n",
       "      <td>11J</td>\n",
       "      <td>J81036</td>\n",
       "      <td>26</td>\n",
       "      <td>50.0576</td>\n",
       "      <td>53246.91</td>\n",
       "    </tr>\n",
       "    <tr>\n",
       "      <th>4</th>\n",
       "      <td>2014-03-01</td>\n",
       "      <td>11J</td>\n",
       "      <td>J81064</td>\n",
       "      <td>3</td>\n",
       "      <td>-6.8668</td>\n",
       "      <td>25049.51</td>\n",
       "    </tr>\n",
       "  </tbody>\n",
       "</table>\n",
       "</div>"
      ],
      "text/plain": [
       "        month  pct practice  items  possible_savings   net_cost\n",
       "0  2014-03-01  11N   L82012     33           22.9330  123703.15\n",
       "1  2014-03-01  04G   K83052   1023          241.9317  104574.57\n",
       "2  2014-03-01  04G   K83049    165           -7.5714   46547.20\n",
       "3  2014-03-01  11J   J81036     26           50.0576   53246.91\n",
       "4  2014-03-01  11J   J81064      3           -6.8668   25049.51"
      ]
     },
     "execution_count": 3,
     "metadata": {},
     "output_type": "execute_result"
    }
   ],
   "source": [
    "ghost_df.head()"
   ]
  },
  {
   "cell_type": "markdown",
   "metadata": {},
   "source": [
    "## Practice Level Data"
   ]
  },
  {
   "cell_type": "code",
   "execution_count": 4,
   "metadata": {},
   "outputs": [
    {
     "data": {
      "text/html": [
       "<div>\n",
       "<style scoped>\n",
       "    .dataframe tbody tr th:only-of-type {\n",
       "        vertical-align: middle;\n",
       "    }\n",
       "\n",
       "    .dataframe tbody tr th {\n",
       "        vertical-align: top;\n",
       "    }\n",
       "\n",
       "    .dataframe thead th {\n",
       "        text-align: right;\n",
       "    }\n",
       "</style>\n",
       "<table border=\"1\" class=\"dataframe\">\n",
       "  <thead>\n",
       "    <tr style=\"text-align: right;\">\n",
       "      <th></th>\n",
       "      <th>month</th>\n",
       "      <th>pct</th>\n",
       "      <th>practice</th>\n",
       "      <th>items</th>\n",
       "      <th>possible_savings</th>\n",
       "      <th>net_cost</th>\n",
       "      <th>calc_val</th>\n",
       "    </tr>\n",
       "  </thead>\n",
       "  <tbody>\n",
       "    <tr>\n",
       "      <th>659910</th>\n",
       "      <td>2013-05-01</td>\n",
       "      <td>00K</td>\n",
       "      <td>A81001</td>\n",
       "      <td>3</td>\n",
       "      <td>3.2850</td>\n",
       "      <td>32027.35</td>\n",
       "      <td>0.010257</td>\n",
       "    </tr>\n",
       "    <tr>\n",
       "      <th>772435</th>\n",
       "      <td>2013-06-01</td>\n",
       "      <td>00K</td>\n",
       "      <td>A81001</td>\n",
       "      <td>3</td>\n",
       "      <td>-2.1272</td>\n",
       "      <td>27785.40</td>\n",
       "      <td>-0.007656</td>\n",
       "    </tr>\n",
       "    <tr>\n",
       "      <th>50774</th>\n",
       "      <td>2013-07-01</td>\n",
       "      <td>00K</td>\n",
       "      <td>A81001</td>\n",
       "      <td>0</td>\n",
       "      <td>0.0000</td>\n",
       "      <td>30353.65</td>\n",
       "      <td>0.000000</td>\n",
       "    </tr>\n",
       "    <tr>\n",
       "      <th>152373</th>\n",
       "      <td>2013-08-01</td>\n",
       "      <td>00K</td>\n",
       "      <td>A81001</td>\n",
       "      <td>3</td>\n",
       "      <td>3.3522</td>\n",
       "      <td>30750.13</td>\n",
       "      <td>0.010901</td>\n",
       "    </tr>\n",
       "    <tr>\n",
       "      <th>263120</th>\n",
       "      <td>2013-09-01</td>\n",
       "      <td>00K</td>\n",
       "      <td>A81001</td>\n",
       "      <td>1</td>\n",
       "      <td>32.1800</td>\n",
       "      <td>29544.21</td>\n",
       "      <td>0.108922</td>\n",
       "    </tr>\n",
       "  </tbody>\n",
       "</table>\n",
       "</div>"
      ],
      "text/plain": [
       "            month  pct practice  items  possible_savings  net_cost  calc_val\n",
       "659910 2013-05-01  00K   A81001      3            3.2850  32027.35  0.010257\n",
       "772435 2013-06-01  00K   A81001      3           -2.1272  27785.40 -0.007656\n",
       "50774  2013-07-01  00K   A81001      0            0.0000  30353.65  0.000000\n",
       "152373 2013-08-01  00K   A81001      3            3.3522  30750.13  0.010901\n",
       "263120 2013-09-01  00K   A81001      1           32.1800  29544.21  0.108922"
      ]
     },
     "execution_count": 4,
     "metadata": {},
     "output_type": "execute_result"
    }
   ],
   "source": [
    "practice = ghost_df.copy()\n",
    "practice['calc_val'] = (practice['possible_savings']/practice['net_cost'])*100\n",
    "practice['month'] = pd.to_datetime(practice['month'])\n",
    "practice = practice.sort_values(['practice','month'])\n",
    "practice = practice.loc[practice['month']>='2013-05-01']\n",
    "practice = practice.replace([np.inf, -np.inf], np.nan)\n",
    "practice.head()"
   ]
  },
  {
   "cell_type": "code",
   "execution_count": 5,
   "metadata": {},
   "outputs": [
    {
     "data": {
      "text/html": [
       "<div>\n",
       "<style scoped>\n",
       "    .dataframe tbody tr th:only-of-type {\n",
       "        vertical-align: middle;\n",
       "    }\n",
       "\n",
       "    .dataframe tbody tr th {\n",
       "        vertical-align: top;\n",
       "    }\n",
       "\n",
       "    .dataframe thead th {\n",
       "        text-align: right;\n",
       "    }\n",
       "</style>\n",
       "<table border=\"1\" class=\"dataframe\">\n",
       "  <thead>\n",
       "    <tr style=\"text-align: right;\">\n",
       "      <th></th>\n",
       "      <th>items</th>\n",
       "      <th>possible_savings</th>\n",
       "      <th>net_cost</th>\n",
       "      <th>calc_val</th>\n",
       "    </tr>\n",
       "  </thead>\n",
       "  <tbody>\n",
       "    <tr>\n",
       "      <th>count</th>\n",
       "      <td>7077.000000</td>\n",
       "      <td>7077.000000</td>\n",
       "      <td>7077.000000</td>\n",
       "      <td>7077.000000</td>\n",
       "    </tr>\n",
       "    <tr>\n",
       "      <th>mean</th>\n",
       "      <td>394.732514</td>\n",
       "      <td>122.783604</td>\n",
       "      <td>50046.002319</td>\n",
       "      <td>0.246532</td>\n",
       "    </tr>\n",
       "    <tr>\n",
       "      <th>std</th>\n",
       "      <td>1199.923980</td>\n",
       "      <td>336.835655</td>\n",
       "      <td>35006.650667</td>\n",
       "      <td>0.676624</td>\n",
       "    </tr>\n",
       "    <tr>\n",
       "      <th>min</th>\n",
       "      <td>0.000000</td>\n",
       "      <td>-959.015100</td>\n",
       "      <td>0.760000</td>\n",
       "      <td>-4.146775</td>\n",
       "    </tr>\n",
       "    <tr>\n",
       "      <th>25%</th>\n",
       "      <td>0.000000</td>\n",
       "      <td>0.000000</td>\n",
       "      <td>25358.560000</td>\n",
       "      <td>0.000000</td>\n",
       "    </tr>\n",
       "    <tr>\n",
       "      <th>50%</th>\n",
       "      <td>10.000000</td>\n",
       "      <td>0.019800</td>\n",
       "      <td>43405.250000</td>\n",
       "      <td>0.000037</td>\n",
       "    </tr>\n",
       "    <tr>\n",
       "      <th>75%</th>\n",
       "      <td>262.000000</td>\n",
       "      <td>112.358600</td>\n",
       "      <td>66736.980000</td>\n",
       "      <td>0.254585</td>\n",
       "    </tr>\n",
       "    <tr>\n",
       "      <th>max</th>\n",
       "      <td>34129.000000</td>\n",
       "      <td>10177.537400</td>\n",
       "      <td>411446.550000</td>\n",
       "      <td>20.338298</td>\n",
       "    </tr>\n",
       "  </tbody>\n",
       "</table>\n",
       "</div>"
      ],
      "text/plain": [
       "              items  possible_savings       net_cost     calc_val\n",
       "count   7077.000000       7077.000000    7077.000000  7077.000000\n",
       "mean     394.732514        122.783604   50046.002319     0.246532\n",
       "std     1199.923980        336.835655   35006.650667     0.676624\n",
       "min        0.000000       -959.015100       0.760000    -4.146775\n",
       "25%        0.000000          0.000000   25358.560000     0.000000\n",
       "50%       10.000000          0.019800   43405.250000     0.000037\n",
       "75%      262.000000        112.358600   66736.980000     0.254585\n",
       "max    34129.000000      10177.537400  411446.550000    20.338298"
      ]
     },
     "execution_count": 5,
     "metadata": {},
     "output_type": "execute_result"
    }
   ],
   "source": [
    "## here we describe ranges for Decmebr 2018 - month of surfacing  the issue\n",
    "df_practice_dec18 = practice.copy().loc[(practice[\"month\"]== \"2018-12-01\")]\n",
    "df_practice_dec18.describe()"
   ]
  },
  {
   "cell_type": "code",
   "execution_count": 6,
   "metadata": {},
   "outputs": [
    {
     "data": {
      "text/plain": [
       "9.661380000000019"
      ]
     },
     "execution_count": 6,
     "metadata": {},
     "output_type": "execute_result"
    }
   ],
   "source": [
    "df_practice_dec18.possible_savings.quantile(0.6)"
   ]
  },
  {
   "cell_type": "code",
   "execution_count": 7,
   "metadata": {},
   "outputs": [
    {
     "data": {
      "text/plain": [
       "2.7700344547244993"
      ]
     },
     "execution_count": 7,
     "metadata": {},
     "output_type": "execute_result"
    }
   ],
   "source": [
    "df_practice_dec18.calc_val.quantile(0.99)"
   ]
  },
  {
   "cell_type": "markdown",
   "metadata": {},
   "source": [
    "## Get Data on EHRs"
   ]
  },
  {
   "cell_type": "code",
   "execution_count": 8,
   "metadata": {},
   "outputs": [
    {
     "data": {
      "text/html": [
       "<div>\n",
       "<style scoped>\n",
       "    .dataframe tbody tr th:only-of-type {\n",
       "        vertical-align: middle;\n",
       "    }\n",
       "\n",
       "    .dataframe tbody tr th {\n",
       "        vertical-align: top;\n",
       "    }\n",
       "\n",
       "    .dataframe thead th {\n",
       "        text-align: right;\n",
       "    }\n",
       "</style>\n",
       "<table border=\"1\" class=\"dataframe\">\n",
       "  <thead>\n",
       "    <tr style=\"text-align: right;\">\n",
       "      <th></th>\n",
       "      <th>Date</th>\n",
       "      <th>ODS</th>\n",
       "      <th>Principal_Supplier</th>\n",
       "      <th>Principal_System</th>\n",
       "    </tr>\n",
       "  </thead>\n",
       "  <tbody>\n",
       "    <tr>\n",
       "      <th>0</th>\n",
       "      <td>2016-04-01</td>\n",
       "      <td>A81622</td>\n",
       "      <td>SystmOne</td>\n",
       "      <td>SystmOne (GPSoC)</td>\n",
       "    </tr>\n",
       "    <tr>\n",
       "      <th>1</th>\n",
       "      <td>2016-04-01</td>\n",
       "      <td>A82018</td>\n",
       "      <td>EMIS</td>\n",
       "      <td>EMIS Web</td>\n",
       "    </tr>\n",
       "    <tr>\n",
       "      <th>2</th>\n",
       "      <td>2016-04-01</td>\n",
       "      <td>A82041</td>\n",
       "      <td>EMIS</td>\n",
       "      <td>EMIS Web</td>\n",
       "    </tr>\n",
       "    <tr>\n",
       "      <th>3</th>\n",
       "      <td>2016-04-01</td>\n",
       "      <td>A86026</td>\n",
       "      <td>SystmOne</td>\n",
       "      <td>SystmOne (GPSoC)</td>\n",
       "    </tr>\n",
       "    <tr>\n",
       "      <th>4</th>\n",
       "      <td>2016-04-01</td>\n",
       "      <td>B81120</td>\n",
       "      <td>SystmOne</td>\n",
       "      <td>SystmOne (GPSoC)</td>\n",
       "    </tr>\n",
       "  </tbody>\n",
       "</table>\n",
       "</div>"
      ],
      "text/plain": [
       "        Date     ODS Principal_Supplier  Principal_System\n",
       "0 2016-04-01  A81622           SystmOne  SystmOne (GPSoC)\n",
       "1 2016-04-01  A82018               EMIS          EMIS Web\n",
       "2 2016-04-01  A82041               EMIS          EMIS Web\n",
       "3 2016-04-01  A86026           SystmOne  SystmOne (GPSoC)\n",
       "4 2016-04-01  B81120           SystmOne  SystmOne (GPSoC)"
      ]
     },
     "execution_count": 8,
     "metadata": {},
     "output_type": "execute_result"
    }
   ],
   "source": [
    "epr = pd.read_csv('GPSoC/complete.csv')\n",
    "epr = epr.rename(index=str, columns={\"Principal Supplier\": \"Principal_Supplier\",\n",
    "                                     \"Principal System\": \"Principal_System\"})\n",
    "epr['Date'] = pd.to_datetime(epr['Date'])\n",
    "epr.loc[epr['Principal_Supplier']=='TPP','Principal_Supplier'] = 'SystmOne'\n",
    "epr.loc[epr['Principal_Supplier']=='INPS','Principal_Supplier'] = 'Vision'\n",
    "epr = epr.drop('Unnamed: 0', axis=1)\n",
    "epr.head(5)"
   ]
  },
  {
   "cell_type": "code",
   "execution_count": 9,
   "metadata": {},
   "outputs": [
    {
     "data": {
      "text/html": [
       "<div>\n",
       "<style scoped>\n",
       "    .dataframe tbody tr th:only-of-type {\n",
       "        vertical-align: middle;\n",
       "    }\n",
       "\n",
       "    .dataframe tbody tr th {\n",
       "        vertical-align: top;\n",
       "    }\n",
       "\n",
       "    .dataframe thead tr th {\n",
       "        text-align: left;\n",
       "    }\n",
       "\n",
       "    .dataframe thead tr:last-of-type th {\n",
       "        text-align: right;\n",
       "    }\n",
       "</style>\n",
       "<table border=\"1\" class=\"dataframe\">\n",
       "  <thead>\n",
       "    <tr>\n",
       "      <th></th>\n",
       "      <th colspan=\"4\" halign=\"left\">possible_savings</th>\n",
       "      <th colspan=\"4\" halign=\"left\">net_cost</th>\n",
       "    </tr>\n",
       "    <tr>\n",
       "      <th>Principal_Supplier</th>\n",
       "      <th>EMIS</th>\n",
       "      <th>Microtest</th>\n",
       "      <th>SystmOne</th>\n",
       "      <th>Vision</th>\n",
       "      <th>EMIS</th>\n",
       "      <th>Microtest</th>\n",
       "      <th>SystmOne</th>\n",
       "      <th>Vision</th>\n",
       "    </tr>\n",
       "    <tr>\n",
       "      <th>month</th>\n",
       "      <th></th>\n",
       "      <th></th>\n",
       "      <th></th>\n",
       "      <th></th>\n",
       "      <th></th>\n",
       "      <th></th>\n",
       "      <th></th>\n",
       "      <th></th>\n",
       "    </tr>\n",
       "  </thead>\n",
       "  <tbody>\n",
       "    <tr>\n",
       "      <th>2013-05-01</th>\n",
       "      <td>10449.6221</td>\n",
       "      <td>1784.2892</td>\n",
       "      <td>73724.9958</td>\n",
       "      <td>5581.4633</td>\n",
       "      <td>2.031396e+08</td>\n",
       "      <td>5168099.20</td>\n",
       "      <td>1.350999e+08</td>\n",
       "      <td>26842613.04</td>\n",
       "    </tr>\n",
       "    <tr>\n",
       "      <th>2013-06-01</th>\n",
       "      <td>-2513.7045</td>\n",
       "      <td>1859.7147</td>\n",
       "      <td>63401.6698</td>\n",
       "      <td>2988.0021</td>\n",
       "      <td>1.883684e+08</td>\n",
       "      <td>4787855.42</td>\n",
       "      <td>1.247724e+08</td>\n",
       "      <td>25003873.80</td>\n",
       "    </tr>\n",
       "    <tr>\n",
       "      <th>2013-07-01</th>\n",
       "      <td>-10007.7752</td>\n",
       "      <td>785.8605</td>\n",
       "      <td>61031.5563</td>\n",
       "      <td>2142.5114</td>\n",
       "      <td>2.033367e+08</td>\n",
       "      <td>5202434.11</td>\n",
       "      <td>1.347439e+08</td>\n",
       "      <td>26798668.44</td>\n",
       "    </tr>\n",
       "    <tr>\n",
       "      <th>2013-08-01</th>\n",
       "      <td>-3879.6426</td>\n",
       "      <td>534.0611</td>\n",
       "      <td>57043.1956</td>\n",
       "      <td>979.6838</td>\n",
       "      <td>1.955451e+08</td>\n",
       "      <td>5090730.44</td>\n",
       "      <td>1.302076e+08</td>\n",
       "      <td>25851248.36</td>\n",
       "    </tr>\n",
       "    <tr>\n",
       "      <th>2013-09-01</th>\n",
       "      <td>9182.9108</td>\n",
       "      <td>736.4783</td>\n",
       "      <td>60155.0313</td>\n",
       "      <td>885.8858</td>\n",
       "      <td>1.906725e+08</td>\n",
       "      <td>4849766.69</td>\n",
       "      <td>1.258965e+08</td>\n",
       "      <td>25368602.80</td>\n",
       "    </tr>\n",
       "  </tbody>\n",
       "</table>\n",
       "</div>"
      ],
      "text/plain": [
       "                   possible_savings                                    \\\n",
       "Principal_Supplier             EMIS  Microtest    SystmOne     Vision   \n",
       "month                                                                   \n",
       "2013-05-01               10449.6221  1784.2892  73724.9958  5581.4633   \n",
       "2013-06-01               -2513.7045  1859.7147  63401.6698  2988.0021   \n",
       "2013-07-01              -10007.7752   785.8605  61031.5563  2142.5114   \n",
       "2013-08-01               -3879.6426   534.0611  57043.1956   979.6838   \n",
       "2013-09-01                9182.9108   736.4783  60155.0313   885.8858   \n",
       "\n",
       "                        net_cost                                         \n",
       "Principal_Supplier          EMIS   Microtest      SystmOne       Vision  \n",
       "month                                                                    \n",
       "2013-05-01          2.031396e+08  5168099.20  1.350999e+08  26842613.04  \n",
       "2013-06-01          1.883684e+08  4787855.42  1.247724e+08  25003873.80  \n",
       "2013-07-01          2.033367e+08  5202434.11  1.347439e+08  26798668.44  \n",
       "2013-08-01          1.955451e+08  5090730.44  1.302076e+08  25851248.36  \n",
       "2013-09-01          1.906725e+08  4849766.69  1.258965e+08  25368602.80  "
      ]
     },
     "execution_count": 9,
     "metadata": {},
     "output_type": "execute_result"
    }
   ],
   "source": [
    "numbers = practice[['month','practice', 'possible_savings','net_cost']]\n",
    "first = epr.loc[epr['Date']=='2016-03-01',['ODS','Principal_Supplier']]\n",
    "last = epr.loc[epr['Date']=='2018-12-01',['ODS','Principal_Supplier']]\n",
    "by_epr = numbers.merge(epr, how='left', left_on=['practice','month'], right_on=['ODS','Date'])\n",
    "by_epr = by_epr.merge(first,\n",
    "                      how='left',\n",
    "                      left_on='practice',\n",
    "                      right_on='ODS',\n",
    "                      suffixes=('','_first')\n",
    "                     )\n",
    "'''by_epr = by_epr.merge(last,\n",
    "                      how='left',\n",
    "                      left_on='practice',\n",
    "                      right_on='ODS',\n",
    "                      suffixes=('','_last')\n",
    "                     )'''\n",
    "by_epr.loc[by_epr['month']<'2016-03-01','Principal_Supplier'] = by_epr.loc[by_epr['month']<'2016-03-01','Principal_Supplier_first']\n",
    "#by_epr.loc[by_epr['month']>'2018-12-01','Principal_Supplier'] = by_epr.loc[by_epr['month']>'2018-12-01','Principal_Supplier_last']\n",
    "by_epr = by_epr.drop(columns=['Date',\n",
    "                              'ODS',\n",
    "                              'Principal_System',\n",
    "                              'ODS_first',\n",
    "                              'Principal_Supplier_first'])#,\n",
    "                              #'ODS_last',\n",
    "                              #'Principal_Supplier_last'])\n",
    "by_epr['Principal_Supplier'] = by_epr['Principal_Supplier'].str.strip()\n",
    "by_epr2 = by_epr.groupby(['month','Principal_Supplier']).sum()\n",
    "by_epr2 = by_epr2.unstack()\n",
    "by_epr2.head(5)"
   ]
  },
  {
   "cell_type": "code",
   "execution_count": 10,
   "metadata": {},
   "outputs": [
    {
     "data": {
      "text/html": [
       "<div>\n",
       "<style scoped>\n",
       "    .dataframe tbody tr th:only-of-type {\n",
       "        vertical-align: middle;\n",
       "    }\n",
       "\n",
       "    .dataframe tbody tr th {\n",
       "        vertical-align: top;\n",
       "    }\n",
       "\n",
       "    .dataframe thead th {\n",
       "        text-align: right;\n",
       "    }\n",
       "</style>\n",
       "<table border=\"1\" class=\"dataframe\">\n",
       "  <thead>\n",
       "    <tr style=\"text-align: right;\">\n",
       "      <th></th>\n",
       "      <th>month</th>\n",
       "      <th>practice</th>\n",
       "      <th>possible_savings</th>\n",
       "      <th>net_cost</th>\n",
       "      <th>Principal_Supplier</th>\n",
       "      <th>calc_val</th>\n",
       "    </tr>\n",
       "  </thead>\n",
       "  <tbody>\n",
       "    <tr>\n",
       "      <th>0</th>\n",
       "      <td>2013-05-01</td>\n",
       "      <td>A81001</td>\n",
       "      <td>3.2850</td>\n",
       "      <td>32027.35</td>\n",
       "      <td>SystmOne</td>\n",
       "      <td>0.010257</td>\n",
       "    </tr>\n",
       "    <tr>\n",
       "      <th>1</th>\n",
       "      <td>2013-06-01</td>\n",
       "      <td>A81001</td>\n",
       "      <td>-2.1272</td>\n",
       "      <td>27785.40</td>\n",
       "      <td>SystmOne</td>\n",
       "      <td>-0.007656</td>\n",
       "    </tr>\n",
       "    <tr>\n",
       "      <th>2</th>\n",
       "      <td>2013-07-01</td>\n",
       "      <td>A81001</td>\n",
       "      <td>0.0000</td>\n",
       "      <td>30353.65</td>\n",
       "      <td>SystmOne</td>\n",
       "      <td>0.000000</td>\n",
       "    </tr>\n",
       "    <tr>\n",
       "      <th>3</th>\n",
       "      <td>2013-08-01</td>\n",
       "      <td>A81001</td>\n",
       "      <td>3.3522</td>\n",
       "      <td>30750.13</td>\n",
       "      <td>SystmOne</td>\n",
       "      <td>0.010901</td>\n",
       "    </tr>\n",
       "    <tr>\n",
       "      <th>4</th>\n",
       "      <td>2013-09-01</td>\n",
       "      <td>A81001</td>\n",
       "      <td>32.1800</td>\n",
       "      <td>29544.21</td>\n",
       "      <td>SystmOne</td>\n",
       "      <td>0.108922</td>\n",
       "    </tr>\n",
       "  </tbody>\n",
       "</table>\n",
       "</div>"
      ],
      "text/plain": [
       "       month practice  possible_savings  net_cost Principal_Supplier  calc_val\n",
       "0 2013-05-01   A81001            3.2850  32027.35           SystmOne  0.010257\n",
       "1 2013-06-01   A81001           -2.1272  27785.40           SystmOne -0.007656\n",
       "2 2013-07-01   A81001            0.0000  30353.65           SystmOne  0.000000\n",
       "3 2013-08-01   A81001            3.3522  30750.13           SystmOne  0.010901\n",
       "4 2013-09-01   A81001           32.1800  29544.21           SystmOne  0.108922"
      ]
     },
     "execution_count": 10,
     "metadata": {},
     "output_type": "execute_result"
    }
   ],
   "source": [
    "ehr_by_ccg = pd.merge(by_epr, practice[['practice', 'month' ,'calc_val']].drop_duplicates(), left_on=['practice', 'month'], right_on= ['practice', 'month'], how='left')\n",
    "ehr_by_ccg.head(5)"
   ]
  },
  {
   "cell_type": "code",
   "execution_count": 11,
   "metadata": {},
   "outputs": [
    {
     "data": {
      "text/html": [
       "<div>\n",
       "<style scoped>\n",
       "    .dataframe tbody tr th:only-of-type {\n",
       "        vertical-align: middle;\n",
       "    }\n",
       "\n",
       "    .dataframe tbody tr th {\n",
       "        vertical-align: top;\n",
       "    }\n",
       "\n",
       "    .dataframe thead th {\n",
       "        text-align: right;\n",
       "    }\n",
       "</style>\n",
       "<table border=\"1\" class=\"dataframe\">\n",
       "  <thead>\n",
       "    <tr style=\"text-align: right;\">\n",
       "      <th></th>\n",
       "      <th>month</th>\n",
       "      <th>practice</th>\n",
       "      <th>possible_savings</th>\n",
       "      <th>net_cost</th>\n",
       "      <th>Principal_Supplier</th>\n",
       "      <th>calc_val</th>\n",
       "    </tr>\n",
       "  </thead>\n",
       "  <tbody>\n",
       "    <tr>\n",
       "      <th>0</th>\n",
       "      <td>2013-05-01</td>\n",
       "      <td>A81001</td>\n",
       "      <td>3.2850</td>\n",
       "      <td>32027.35</td>\n",
       "      <td>SystmOne</td>\n",
       "      <td>0.010257</td>\n",
       "    </tr>\n",
       "    <tr>\n",
       "      <th>1</th>\n",
       "      <td>2013-06-01</td>\n",
       "      <td>A81001</td>\n",
       "      <td>-2.1272</td>\n",
       "      <td>27785.40</td>\n",
       "      <td>SystmOne</td>\n",
       "      <td>-0.007656</td>\n",
       "    </tr>\n",
       "    <tr>\n",
       "      <th>2</th>\n",
       "      <td>2013-07-01</td>\n",
       "      <td>A81001</td>\n",
       "      <td>0.0000</td>\n",
       "      <td>30353.65</td>\n",
       "      <td>SystmOne</td>\n",
       "      <td>0.000000</td>\n",
       "    </tr>\n",
       "    <tr>\n",
       "      <th>3</th>\n",
       "      <td>2013-08-01</td>\n",
       "      <td>A81001</td>\n",
       "      <td>3.3522</td>\n",
       "      <td>30750.13</td>\n",
       "      <td>SystmOne</td>\n",
       "      <td>0.010901</td>\n",
       "    </tr>\n",
       "    <tr>\n",
       "      <th>4</th>\n",
       "      <td>2013-09-01</td>\n",
       "      <td>A81001</td>\n",
       "      <td>32.1800</td>\n",
       "      <td>29544.21</td>\n",
       "      <td>SystmOne</td>\n",
       "      <td>0.108922</td>\n",
       "    </tr>\n",
       "  </tbody>\n",
       "</table>\n",
       "</div>"
      ],
      "text/plain": [
       "       month practice  possible_savings  net_cost Principal_Supplier  calc_val\n",
       "0 2013-05-01   A81001            3.2850  32027.35           SystmOne  0.010257\n",
       "1 2013-06-01   A81001           -2.1272  27785.40           SystmOne -0.007656\n",
       "2 2013-07-01   A81001            0.0000  30353.65           SystmOne  0.000000\n",
       "3 2013-08-01   A81001            3.3522  30750.13           SystmOne  0.010901\n",
       "4 2013-09-01   A81001           32.1800  29544.21           SystmOne  0.108922"
      ]
     },
     "execution_count": 11,
     "metadata": {},
     "output_type": "execute_result"
    }
   ],
   "source": [
    "df_sysone_prac = ehr_by_ccg.loc[ehr_by_ccg['Principal_Supplier']=='SystmOne']\n",
    "df_sysone_prac.head(5)"
   ]
  },
  {
   "cell_type": "code",
   "execution_count": 12,
   "metadata": {},
   "outputs": [
    {
     "data": {
      "text/html": [
       "<div>\n",
       "<style scoped>\n",
       "    .dataframe tbody tr th:only-of-type {\n",
       "        vertical-align: middle;\n",
       "    }\n",
       "\n",
       "    .dataframe tbody tr th {\n",
       "        vertical-align: top;\n",
       "    }\n",
       "\n",
       "    .dataframe thead th {\n",
       "        text-align: right;\n",
       "    }\n",
       "</style>\n",
       "<table border=\"1\" class=\"dataframe\">\n",
       "  <thead>\n",
       "    <tr style=\"text-align: right;\">\n",
       "      <th></th>\n",
       "      <th>possible_savings</th>\n",
       "      <th>net_cost</th>\n",
       "      <th>calc_val</th>\n",
       "    </tr>\n",
       "  </thead>\n",
       "  <tbody>\n",
       "    <tr>\n",
       "      <th>count</th>\n",
       "      <td>2610.000000</td>\n",
       "      <td>2610.000000</td>\n",
       "      <td>2610.000000</td>\n",
       "    </tr>\n",
       "    <tr>\n",
       "      <th>mean</th>\n",
       "      <td>324.035261</td>\n",
       "      <td>53931.420421</td>\n",
       "      <td>0.641623</td>\n",
       "    </tr>\n",
       "    <tr>\n",
       "      <th>std</th>\n",
       "      <td>483.113571</td>\n",
       "      <td>38481.093413</td>\n",
       "      <td>0.942523</td>\n",
       "    </tr>\n",
       "    <tr>\n",
       "      <th>min</th>\n",
       "      <td>-959.015100</td>\n",
       "      <td>1.960000</td>\n",
       "      <td>-1.618454</td>\n",
       "    </tr>\n",
       "    <tr>\n",
       "      <th>25%</th>\n",
       "      <td>71.884425</td>\n",
       "      <td>27485.050000</td>\n",
       "      <td>0.181659</td>\n",
       "    </tr>\n",
       "    <tr>\n",
       "      <th>50%</th>\n",
       "      <td>189.835700</td>\n",
       "      <td>46772.660000</td>\n",
       "      <td>0.419179</td>\n",
       "    </tr>\n",
       "    <tr>\n",
       "      <th>75%</th>\n",
       "      <td>405.024850</td>\n",
       "      <td>71404.692500</td>\n",
       "      <td>0.794548</td>\n",
       "    </tr>\n",
       "    <tr>\n",
       "      <th>max</th>\n",
       "      <td>10177.537400</td>\n",
       "      <td>411446.550000</td>\n",
       "      <td>20.338298</td>\n",
       "    </tr>\n",
       "  </tbody>\n",
       "</table>\n",
       "</div>"
      ],
      "text/plain": [
       "       possible_savings       net_cost     calc_val\n",
       "count       2610.000000    2610.000000  2610.000000\n",
       "mean         324.035261   53931.420421     0.641623\n",
       "std          483.113571   38481.093413     0.942523\n",
       "min         -959.015100       1.960000    -1.618454\n",
       "25%           71.884425   27485.050000     0.181659\n",
       "50%          189.835700   46772.660000     0.419179\n",
       "75%          405.024850   71404.692500     0.794548\n",
       "max        10177.537400  411446.550000    20.338298"
      ]
     },
     "execution_count": 12,
     "metadata": {},
     "output_type": "execute_result"
    }
   ],
   "source": [
    "##here we show ranges for December 2018\n",
    "df_sysymone_dec18 = df_sysone_prac.copy().loc[(df_sysone_prac[\"month\"]== \"2018-12-01\")]\n",
    "df_sysymone_dec18.describe()"
   ]
  },
  {
   "cell_type": "code",
   "execution_count": 13,
   "metadata": {},
   "outputs": [
    {
     "data": {
      "text/plain": [
       "4.054294904513536"
      ]
     },
     "execution_count": 13,
     "metadata": {},
     "output_type": "execute_result"
    }
   ],
   "source": [
    "df_sysymone_dec18.calc_val.quantile(0.99)"
   ]
  },
  {
   "cell_type": "markdown",
   "metadata": {},
   "source": [
    "# CCG level data"
   ]
  },
  {
   "cell_type": "code",
   "execution_count": 14,
   "metadata": {
    "scrolled": true
   },
   "outputs": [
    {
     "data": {
      "text/html": [
       "<div>\n",
       "<style scoped>\n",
       "    .dataframe tbody tr th:only-of-type {\n",
       "        vertical-align: middle;\n",
       "    }\n",
       "\n",
       "    .dataframe tbody tr th {\n",
       "        vertical-align: top;\n",
       "    }\n",
       "\n",
       "    .dataframe thead th {\n",
       "        text-align: right;\n",
       "    }\n",
       "</style>\n",
       "<table border=\"1\" class=\"dataframe\">\n",
       "  <thead>\n",
       "    <tr style=\"text-align: right;\">\n",
       "      <th></th>\n",
       "      <th>pct</th>\n",
       "      <th>month</th>\n",
       "      <th>items</th>\n",
       "      <th>possible_savings</th>\n",
       "      <th>net_cost</th>\n",
       "      <th>calc_val</th>\n",
       "    </tr>\n",
       "  </thead>\n",
       "  <tbody>\n",
       "    <tr>\n",
       "      <th>33</th>\n",
       "      <td>00C</td>\n",
       "      <td>2013-05-01</td>\n",
       "      <td>1599</td>\n",
       "      <td>182.1012</td>\n",
       "      <td>837702.68</td>\n",
       "      <td>0.021738</td>\n",
       "    </tr>\n",
       "    <tr>\n",
       "      <th>34</th>\n",
       "      <td>00C</td>\n",
       "      <td>2013-06-01</td>\n",
       "      <td>937</td>\n",
       "      <td>262.1197</td>\n",
       "      <td>765487.02</td>\n",
       "      <td>0.034242</td>\n",
       "    </tr>\n",
       "    <tr>\n",
       "      <th>35</th>\n",
       "      <td>00C</td>\n",
       "      <td>2013-07-01</td>\n",
       "      <td>723</td>\n",
       "      <td>597.9922</td>\n",
       "      <td>838177.76</td>\n",
       "      <td>0.071344</td>\n",
       "    </tr>\n",
       "    <tr>\n",
       "      <th>36</th>\n",
       "      <td>00C</td>\n",
       "      <td>2013-08-01</td>\n",
       "      <td>775</td>\n",
       "      <td>107.6665</td>\n",
       "      <td>814721.45</td>\n",
       "      <td>0.013215</td>\n",
       "    </tr>\n",
       "    <tr>\n",
       "      <th>37</th>\n",
       "      <td>00C</td>\n",
       "      <td>2013-09-01</td>\n",
       "      <td>815</td>\n",
       "      <td>229.1338</td>\n",
       "      <td>771460.68</td>\n",
       "      <td>0.029701</td>\n",
       "    </tr>\n",
       "  </tbody>\n",
       "</table>\n",
       "</div>"
      ],
      "text/plain": [
       "    pct      month  items  possible_savings   net_cost  calc_val\n",
       "33  00C 2013-05-01   1599          182.1012  837702.68  0.021738\n",
       "34  00C 2013-06-01    937          262.1197  765487.02  0.034242\n",
       "35  00C 2013-07-01    723          597.9922  838177.76  0.071344\n",
       "36  00C 2013-08-01    775          107.6665  814721.45  0.013215\n",
       "37  00C 2013-09-01    815          229.1338  771460.68  0.029701"
      ]
     },
     "execution_count": 14,
     "metadata": {},
     "output_type": "execute_result"
    }
   ],
   "source": [
    "ccg = ghost_df.copy()\n",
    "ccg['month'] = pd.to_datetime(ccg['month'])\n",
    "ccg = ccg.groupby(['pct','month'],as_index=False).sum()\n",
    "ccg['calc_val'] = (ccg['possible_savings']/ccg['net_cost'])*100\n",
    "ccg = ccg.sort_values(['pct','month'])\n",
    "ccg = ccg.loc[ccg['month']>='2013-05-01']\n",
    "ccg = ccg.replace([np.inf, -np.inf], np.nan)\n",
    "#ccg = ccg.dropna(axis=0)\n",
    "\n",
    "ccg.head()"
   ]
  },
  {
   "cell_type": "code",
   "execution_count": 15,
   "metadata": {},
   "outputs": [
    {
     "data": {
      "image/png": "[encoded data removed]",
      "text/plain": [
       "<Figure size 1008x648 with 1 Axes>"
      ]
     },
     "metadata": {},
     "output_type": "display_data"
    }
   ],
   "source": [
    "##this is finding those CCGs who have changed\n",
    "top_n = ccg.loc[ccg['month']=='2019-01-01']\n",
    "top_n = top_n.sort_values('calc_val',ascending=False)\n",
    "top_n = top_n.head(30)\n",
    "before = top_n[['pct','calc_val']].set_index('pct')\n",
    "top_n = top_n[['pct']]\n",
    "top_n = top_n.set_index('pct')\n",
    "\n",
    "most_recent = ccg.loc[ccg['month']==ccg['month'].max(),['pct','calc_val']]\n",
    "most_recent = most_recent.merge(top_n,how='right',left_on='pct',right_index=True)\n",
    "most_recent = most_recent.set_index('pct')\n",
    "\n",
    "'''\n",
    "change = before - most_recent\n",
    "change = change - change.min()\n",
    "change = change / (change.max()-change.min())\n",
    "change = change['calc_val']\n",
    "#change = 1-change\n",
    "'''\n",
    "change = before - most_recent\n",
    "change = change / before\n",
    "change = change['calc_val']\n",
    "\n",
    "ccg_unstacked = ccg.loc[ccg['month']>='2016-06-01']\n",
    "ccg_unstacked = ccg_unstacked.merge(top_n,how='right',on='pct')\n",
    "ccg_unstacked = ccg_unstacked.groupby(['month','pct']).sum()\n",
    "ccg_unstacked = ccg_unstacked.unstack()\n",
    "\n",
    "#from matplotlib import cm\n",
    "#colors = [cm.coolwarm(x) for x in change]\n",
    "def color_pick(x):\n",
    "    if x < 0.25:\n",
    "        return (0.75,0.75,0.75,0.6)\n",
    "    else:\n",
    "        return (0.9,0.3,0.15,0.8)\n",
    "colors = [color_pick(x) for x in change]\n",
    "\n",
    "f = plt.figure(figsize=(14, 9))\n",
    "layout = gridspec.GridSpec(1, 1, figure=f)\n",
    "ax = plt.subplot(layout[0])\n",
    "ccg_unstacked['calc_val'].plot(ax=ax,color=colors)\n",
    "#ax.axvline('2018-12-01',color='r',linestyle=':', label='DataLab Discover and Announce GBG')\n",
    "#ax.axvline('2019-02-01',color='k',linestyle='--', label='SystmOne deploy fix') ## it was last week of Feb, I think a case for setting as march\n",
    "ax.text('2017-11-01',\n",
    "        0.22,\n",
    "        'CCGs reducing by >25% since January 2019 = {}'.format((change >= 0.25).sum()),\n",
    "        fontsize=14)\n",
    "ax.set_ylabel('Excess costs as a proportion of total generic spending')\n",
    "ax.set_ylim(0,)\n",
    "ax.legend().remove()\n",
    "for item in ([ax.title, ax.xaxis.label, ax.yaxis.label] +\n",
    "             ax.get_xticklabels() + ax.get_yticklabels()):\n",
    "    item.set_fontsize(14)\n",
    "plt.savefig(r'gbg_images\\CCGs_that_have_changed.png')\n",
    "plt.show()"
   ]
  },
  {
   "cell_type": "code",
   "execution_count": 16,
   "metadata": {},
   "outputs": [],
   "source": [
    "## ensuring the format is consistent for pounds and pence\n",
    "pd.set_option('display.float_format', lambda x: '%.2f' % x)"
   ]
  },
  {
   "cell_type": "code",
   "execution_count": 17,
   "metadata": {},
   "outputs": [
    {
     "data": {
      "text/html": [
       "<div>\n",
       "<style scoped>\n",
       "    .dataframe tbody tr th:only-of-type {\n",
       "        vertical-align: middle;\n",
       "    }\n",
       "\n",
       "    .dataframe tbody tr th {\n",
       "        vertical-align: top;\n",
       "    }\n",
       "\n",
       "    .dataframe thead th {\n",
       "        text-align: right;\n",
       "    }\n",
       "</style>\n",
       "<table border=\"1\" class=\"dataframe\">\n",
       "  <thead>\n",
       "    <tr style=\"text-align: right;\">\n",
       "      <th></th>\n",
       "      <th>items</th>\n",
       "      <th>possible_savings</th>\n",
       "      <th>net_cost</th>\n",
       "      <th>calc_val</th>\n",
       "    </tr>\n",
       "  </thead>\n",
       "  <tbody>\n",
       "    <tr>\n",
       "      <th>count</th>\n",
       "      <td>192.00</td>\n",
       "      <td>192.00</td>\n",
       "      <td>192.00</td>\n",
       "      <td>192.00</td>\n",
       "    </tr>\n",
       "    <tr>\n",
       "      <th>mean</th>\n",
       "      <td>14549.59</td>\n",
       "      <td>4525.73</td>\n",
       "      <td>1844664.37</td>\n",
       "      <td>0.24</td>\n",
       "    </tr>\n",
       "    <tr>\n",
       "      <th>std</th>\n",
       "      <td>20758.34</td>\n",
       "      <td>6266.70</td>\n",
       "      <td>1150108.02</td>\n",
       "      <td>0.29</td>\n",
       "    </tr>\n",
       "    <tr>\n",
       "      <th>min</th>\n",
       "      <td>71.00</td>\n",
       "      <td>-197.52</td>\n",
       "      <td>50003.30</td>\n",
       "      <td>-0.02</td>\n",
       "    </tr>\n",
       "    <tr>\n",
       "      <th>25%</th>\n",
       "      <td>554.75</td>\n",
       "      <td>72.26</td>\n",
       "      <td>1165876.22</td>\n",
       "      <td>0.01</td>\n",
       "    </tr>\n",
       "    <tr>\n",
       "      <th>50%</th>\n",
       "      <td>4395.50</td>\n",
       "      <td>1451.99</td>\n",
       "      <td>1544733.47</td>\n",
       "      <td>0.12</td>\n",
       "    </tr>\n",
       "    <tr>\n",
       "      <th>75%</th>\n",
       "      <td>21802.00</td>\n",
       "      <td>7065.96</td>\n",
       "      <td>2108321.47</td>\n",
       "      <td>0.43</td>\n",
       "    </tr>\n",
       "    <tr>\n",
       "      <th>max</th>\n",
       "      <td>142769.00</td>\n",
       "      <td>34664.49</td>\n",
       "      <td>8129220.73</td>\n",
       "      <td>1.53</td>\n",
       "    </tr>\n",
       "  </tbody>\n",
       "</table>\n",
       "</div>"
      ],
      "text/plain": [
       "          items  possible_savings   net_cost  calc_val\n",
       "count    192.00            192.00     192.00    192.00\n",
       "mean   14549.59           4525.73 1844664.37      0.24\n",
       "std    20758.34           6266.70 1150108.02      0.29\n",
       "min       71.00           -197.52   50003.30     -0.02\n",
       "25%      554.75             72.26 1165876.22      0.01\n",
       "50%     4395.50           1451.99 1544733.47      0.12\n",
       "75%    21802.00           7065.96 2108321.47      0.43\n",
       "max   142769.00          34664.49 8129220.73      1.53"
      ]
     },
     "execution_count": 17,
     "metadata": {},
     "output_type": "execute_result"
    }
   ],
   "source": [
    "## here we calculate ranges for december 2018\n",
    "ccg_dec18 = ccg.copy().loc[(ccg[\"month\"]== \"2018-12-01\")]\n",
    "ccg_dec18.describe()"
   ]
  },
  {
   "cell_type": "markdown",
   "metadata": {},
   "source": [
    "# Most recent month map\n"
   ]
  },
  {
   "cell_type": "code",
   "execution_count": 18,
   "metadata": {
    "scrolled": false
   },
   "outputs": [
    {
     "ename": "BaseException",
     "evalue": "Data contains CCG names we can't map: ['NHS DERBY AND DERBYSHIRE CLINICAL COMMISSIONING GROUP'\n 'NHS DEVON CLINICAL COMMISSIONING GROUP']",
     "output_type": "error",
     "traceback": [
      "\u001b[1;31m---------------------------------------------------------------------------\u001b[0m",
      "\u001b[1;31mBaseException\u001b[0m                             Traceback (most recent call last)",
      "\u001b[1;32m<ipython-input-18-4be0fd243ec3>\u001b[0m in \u001b[0;36m<module>\u001b[1;34m()\u001b[0m\n\u001b[0;32m      4\u001b[0m maps.ccg_map(last_month, title=\"April 2019: Excess spend as a % of generic spending\",\n\u001b[0;32m      5\u001b[0m              \u001b[0mcolumn\u001b[0m\u001b[1;33m=\u001b[0m\u001b[1;34m'calc_val'\u001b[0m\u001b[1;33m,\u001b[0m\u001b[1;33m\u001b[0m\u001b[0m\n\u001b[1;32m----> 6\u001b[1;33m              separate_london=True)\n\u001b[0m\u001b[0;32m      7\u001b[0m \u001b[0mplt\u001b[0m\u001b[1;33m.\u001b[0m\u001b[0msavefig\u001b[0m\u001b[1;33m(\u001b[0m\u001b[1;34mr'gbg_images\\gbg_fig3_ccgmap.png'\u001b[0m\u001b[1;33m)\u001b[0m\u001b[1;33m\u001b[0m\u001b[0m\n\u001b[0;32m      8\u001b[0m \u001b[0mplt\u001b[0m\u001b[1;33m.\u001b[0m\u001b[0mshow\u001b[0m\u001b[1;33m(\u001b[0m\u001b[1;33m)\u001b[0m\u001b[1;33m\u001b[0m\u001b[0m\n",
      "\u001b[1;32m~\\Anaconda3\\lib\\site-packages\\ebmdatalab\\maps.py\u001b[0m in \u001b[0;36mccg_map\u001b[1;34m(df, title, column, separate_london, london_layout, cartogram, subplot_spec, show_legend, map_year)\u001b[0m\n\u001b[0;32m     60\u001b[0m     \u001b[0mdiff\u001b[0m \u001b[1;33m=\u001b[0m \u001b[0mnp\u001b[0m\u001b[1;33m.\u001b[0m\u001b[0msetdiff1d\u001b[0m\u001b[1;33m(\u001b[0m\u001b[0mdf\u001b[0m\u001b[1;33m.\u001b[0m\u001b[0mindex\u001b[0m\u001b[1;33m,\u001b[0m \u001b[0mccgs\u001b[0m\u001b[1;33m.\u001b[0m\u001b[0mindex\u001b[0m\u001b[1;33m)\u001b[0m\u001b[1;33m\u001b[0m\u001b[0m\n\u001b[0;32m     61\u001b[0m     \u001b[1;32mif\u001b[0m \u001b[0mlen\u001b[0m\u001b[1;33m(\u001b[0m\u001b[0mdiff\u001b[0m\u001b[1;33m)\u001b[0m \u001b[1;33m>\u001b[0m \u001b[1;36m0\u001b[0m\u001b[1;33m:\u001b[0m\u001b[1;33m\u001b[0m\u001b[0m\n\u001b[1;32m---> 62\u001b[1;33m         \u001b[1;32mraise\u001b[0m \u001b[0mBaseException\u001b[0m\u001b[1;33m(\u001b[0m\u001b[1;34m\"Data contains CCG names we can't map: {}\"\u001b[0m\u001b[1;33m.\u001b[0m\u001b[0mformat\u001b[0m\u001b[1;33m(\u001b[0m\u001b[0mdiff\u001b[0m\u001b[1;33m)\u001b[0m\u001b[1;33m)\u001b[0m\u001b[1;33m\u001b[0m\u001b[0m\n\u001b[0m\u001b[0;32m     63\u001b[0m \u001b[1;33m\u001b[0m\u001b[0m\n\u001b[0;32m     64\u001b[0m     \u001b[1;31m# Join map with data\u001b[0m\u001b[1;33m\u001b[0m\u001b[1;33m\u001b[0m\u001b[0m\n",
      "\u001b[1;31mBaseException\u001b[0m: Data contains CCG names we can't map: ['NHS DERBY AND DERBYSHIRE CLINICAL COMMISSIONING GROUP'\n 'NHS DEVON CLINICAL COMMISSIONING GROUP']"
     ]
    },
    {
     "data": {
      "text/plain": [
       "<Figure size 864x504 with 0 Axes>"
      ]
     },
     "metadata": {},
     "output_type": "display_data"
    }
   ],
   "source": [
    "plt.figure(figsize=(12, 7))\n",
    "ccg_for_map = ccg.loc[ccg['pct']!='112']\n",
    "last_month = ccg_for_map.loc[ccg['month']==ccg['month'].max()]\n",
    "maps.ccg_map(last_month, title=\"April 2019: Excess spend as a % of generic spending\",\n",
    "             column='calc_val', \n",
    "             separate_london=True)\n",
    "plt.savefig(r'gbg_images\\gbg_fig3_ccgmap.png')\n",
    "plt.show()"
   ]
  },
  {
   "cell_type": "code",
   "execution_count": null,
   "metadata": {},
   "outputs": [],
   "source": [
    "###suggested by Helen to be reviewed before submission\n",
    "plt = maps.ccg_map(\n",
    "    last_month, \n",
    "    title=\"CCG list sizes\", \n",
    "    column='calc_val', \n",
    "    cartogram=True, \n",
    "    separate_london=False)\n",
    "plt.show()"
   ]
  },
  {
   "cell_type": "markdown",
   "metadata": {},
   "source": [
    "# Declie plots"
   ]
  },
  {
   "cell_type": "code",
   "execution_count": null,
   "metadata": {},
   "outputs": [],
   "source": [
    "f = plt.figure(figsize=(14, 5))\n",
    "#f.suptitle('Sharing Y axis')\n",
    "f.autofmt_xdate()\n",
    "layout = gridspec.GridSpec(1, 2, figure=f)\n",
    "left_plot = plt.subplot(layout[0])\n",
    "right_plot = plt.subplot(layout[1], sharey=left_plot)  # Share the Y axis \n",
    "\n",
    "# ...and because it's shared, suppress ticks on the second chart\n",
    "plt.setp(right_plot.get_yticklabels(), visible=False)\n",
    "\n",
    "charts.deciles_chart(\n",
    "    ccg,\n",
    "    period_column='month',\n",
    "    column='calc_val',\n",
    "    title=\" (a) CCG variation\",\n",
    "    ylabel=\"Excess spend as a\\nproportion of generic spending (%) \",\n",
    "    show_outer_percentiles=True,\n",
    "    show_legend=False,\n",
    "    ax=left_plot,  \n",
    ") \n",
    "\n",
    "\n",
    "charts.deciles_chart(\n",
    "    practice,\n",
    "    period_column='month',\n",
    "    column='calc_val',\n",
    "    title=\" (b) Practice variation\",\n",
    "    ylabel=\"\",\n",
    "    show_outer_percentiles=True,\n",
    "    show_legend=False,\n",
    "    ax=right_plot,\n",
    ") \n",
    "plt.ylim(0, 5)\n",
    "\n",
    "charts.deciles_chart(\n",
    "        df_sysone_prac,\n",
    "        period_column='month',\n",
    "        column='calc_val',\n",
    "        title=\" (c) Practice variation where\\nSystmOne is EHR\",\n",
    "        ylabel= \"Excess spend as a\\nproportion of generic spending (%)\",\n",
    "        show_outer_percentiles=True,\n",
    "        show_legend=True,\n",
    "   \n",
    ")\n",
    "plt.ylim(0, 5)\n",
    "plt.savefig('deciles.png', format='png', dpi=300,bbox_inches='tight')\n",
    "plt.savefig(r'gbg_images\\gbg_fig2_deciles_ccgprac.png')\n",
    "plt.show()"
   ]
  },
  {
   "cell_type": "markdown",
   "metadata": {},
   "source": [
    "# Total items and total excess costs"
   ]
  },
  {
   "cell_type": "code",
   "execution_count": null,
   "metadata": {},
   "outputs": [],
   "source": [
    "totals = practice.groupby('month').sum()"
   ]
  },
  {
   "cell_type": "code",
   "execution_count": null,
   "metadata": {
    "scrolled": false
   },
   "outputs": [],
   "source": [
    "f = plt.figure(figsize=(8, 8))\n",
    "layout = gridspec.GridSpec(2, 1, figure=f)\n",
    "top_plot = plt.subplot(layout[0])\n",
    "bottom_plot = plt.subplot(layout[1], sharex=top_plot)  # Share the Y axis \n",
    "\n",
    "ax = totals['possible_savings'].plot(ax=top_plot)\n",
    "ax.set_ylabel('total excess costs (£)')\n",
    "ax.set_ylim(0,)\n",
    "ax.set_title('Figure 1a Excess Costs')\n",
    "ax = totals['items'].plot(ax=bottom_plot)\n",
    "ax.set_ylabel('total items')\n",
    "ax.set_ylim(0,)\n",
    "ax.set_title('Figure 1b Total Items')\n",
    "plt.savefig('Fig 1.png', format='png', dpi=300,bbox_inches='tight')\n",
    "plt.savefig(r'gbg_images\\gbg_fig1_totalexcess_costitems.png')\n",
    "plt.show()"
   ]
  },
  {
   "cell_type": "markdown",
   "metadata": {},
   "source": [
    "## Annual totals\n",
    "Ignore 2013 and 2019, as they're not complete years"
   ]
  },
  {
   "cell_type": "code",
   "execution_count": null,
   "metadata": {
    "scrolled": true
   },
   "outputs": [],
   "source": [
    "totals[['items','possible_savings','net_cost']].resample('Y').sum()"
   ]
  },
  {
   "cell_type": "markdown",
   "metadata": {},
   "source": [
    "# Stratify by EHR"
   ]
  },
  {
   "cell_type": "markdown",
   "metadata": {},
   "source": [
    "Rerun GPSoC file aggregation if new months need to be added:"
   ]
  },
  {
   "cell_type": "code",
   "execution_count": null,
   "metadata": {},
   "outputs": [],
   "source": [
    "#%run -i \"GPSoC/make_csv.py\""
   ]
  },
  {
   "cell_type": "code",
   "execution_count": null,
   "metadata": {},
   "outputs": [],
   "source": [
    "epr = pd.read_csv('GPSoC/complete.csv')\n",
    "epr = epr.rename(index=str, columns={\"Principal Supplier\": \"Principal_Supplier\",\n",
    "                                     \"Principal System\": \"Principal_System\"})\n",
    "epr['Date'] = pd.to_datetime(epr['Date'])\n",
    "epr.loc[epr['Principal_Supplier']=='TPP','Principal_Supplier'] = 'SystmOne'\n",
    "epr.loc[epr['Principal_Supplier']=='INPS','Principal_Supplier'] = 'Vision'\n",
    "epr = epr.drop('Unnamed: 0', axis=1)\n",
    "epr.head()"
   ]
  },
  {
   "cell_type": "code",
   "execution_count": null,
   "metadata": {},
   "outputs": [],
   "source": [
    "epr_april19 = epr.loc[epr['Date']=='2019-04-01',['ODS','Principal_Supplier', 'Date']]\n",
    "epr_april19.head(5)"
   ]
  },
  {
   "cell_type": "code",
   "execution_count": null,
   "metadata": {},
   "outputs": [],
   "source": [
    "epr_april19.groupby('Principal_Supplier').count()"
   ]
  },
  {
   "cell_type": "code",
   "execution_count": null,
   "metadata": {},
   "outputs": [],
   "source": [
    "numbers = practice[['month','practice', 'possible_savings','net_cost']]\n",
    "first = epr.loc[epr['Date']=='2016-03-01',['ODS','Principal_Supplier']]\n",
    "last = epr.loc[epr['Date']=='2018-12-01',['ODS','Principal_Supplier']]\n",
    "by_epr = numbers.merge(epr, how='left', left_on=['practice','month'], right_on=['ODS','Date'])\n",
    "by_epr = by_epr.merge(first,\n",
    "                      how='left',\n",
    "                      left_on='practice',\n",
    "                      right_on='ODS',\n",
    "                      suffixes=('','_first')\n",
    "                     )\n",
    "'''by_epr = by_epr.merge(last,\n",
    "                      how='left',\n",
    "                      left_on='practice',\n",
    "                      right_on='ODS',\n",
    "                      suffixes=('','_last')\n",
    "                     )'''\n",
    "by_epr.loc[by_epr['month']<'2016-03-01','Principal_Supplier'] = by_epr.loc[by_epr['month']<'2016-03-01','Principal_Supplier_first']\n",
    "#by_epr.loc[by_epr['month']>'2018-12-01','Principal_Supplier'] = by_epr.loc[by_epr['month']>'2018-12-01','Principal_Supplier_last']\n",
    "by_epr = by_epr.drop(columns=['Date',\n",
    "                              'ODS',\n",
    "                              'Principal_System',\n",
    "                              'ODS_first',\n",
    "                              'Principal_Supplier_first'])#,\n",
    "                              #'ODS_last',\n",
    "                              #'Principal_Supplier_last'])\n",
    "by_epr['Principal_Supplier'] = by_epr['Principal_Supplier'].str.strip()\n",
    "by_epr2 = by_epr.groupby(['month','Principal_Supplier']).sum()\n",
    "by_epr2 = by_epr2.unstack()\n",
    "by_epr2.head()"
   ]
  },
  {
   "cell_type": "code",
   "execution_count": null,
   "metadata": {},
   "outputs": [],
   "source": [
    "by_epr.head(5)"
   ]
  },
  {
   "cell_type": "markdown",
   "metadata": {},
   "source": [
    "### EHR Usage by CCG - SystmOne Deciles"
   ]
  },
  {
   "cell_type": "code",
   "execution_count": null,
   "metadata": {},
   "outputs": [],
   "source": [
    "ehr_by_ccg = pd.merge(by_epr, practice[['practice', 'month' ,'calc_val']].drop_duplicates(), left_on=['practice', 'month'], right_on= ['practice', 'month'], how='left')\n",
    "ehr_by_ccg.head(5)"
   ]
  },
  {
   "cell_type": "code",
   "execution_count": null,
   "metadata": {},
   "outputs": [],
   "source": [
    "df_sysone_prac = ehr_by_ccg.loc[ehr_by_ccg['Principal_Supplier']=='SystmOne']\n",
    "df_sysone_prac.head(5)"
   ]
  },
  {
   "cell_type": "code",
   "execution_count": null,
   "metadata": {},
   "outputs": [],
   "source": [
    "charts.deciles_chart(\n",
    "        df_sysone_prac,\n",
    "        period_column='month',\n",
    "        column='calc_val',\n",
    "        title=\"SystmOne Deciles\",\n",
    "        ylabel=\"Excess spend as a proportion of generic spending (%) \",\n",
    "        show_outer_percentiles=True,\n",
    "        show_legend=True\n",
    ")\n",
    "plt.savefig('deciles.png', format='png', dpi=300,bbox_inches='tight')\n",
    "plt.savefig(r'gbg_images\\ehrshare_latestmonth.png')\n",
    "plt.show()"
   ]
  },
  {
   "cell_type": "markdown",
   "metadata": {},
   "source": [
    "## Total possible savings"
   ]
  },
  {
   "cell_type": "code",
   "execution_count": null,
   "metadata": {
    "scrolled": false
   },
   "outputs": [],
   "source": [
    "f = plt.figure(figsize=(10, 6))\n",
    "layout = gridspec.GridSpec(1, 1, figure=f)\n",
    "ax = plt.subplot(layout[0])\n",
    "ax = by_epr2['possible_savings'].plot(ax=ax)\n",
    "ax.axvline('2018-12-01',color='r',linestyle=':', label='DataLab Identify GBG')\n",
    "ax.axvline('2019-02-01',color='k',linestyle='--', label='SystmOne deploy fix')\n",
    "ax.legend()\n",
    "plt.legend(fontsize=14)\n",
    "ax.set_ylabel('total excess costs (£) ')\n",
    "ax.set_ylim(0,)\n",
    "plt.savefig('savings_by_EHR.png', format='png', dpi=300,bbox_inches='tight')\n",
    "plt.savefig(r'gbg_images\\gbg_fig4_totalcosts_ehr.png')\n",
    "plt.show()"
   ]
  },
  {
   "cell_type": "markdown",
   "metadata": {},
   "source": [
    "## Total savings/total generic prescribing costs"
   ]
  },
  {
   "cell_type": "code",
   "execution_count": null,
   "metadata": {},
   "outputs": [],
   "source": [
    "measure = by_epr2['possible_savings'] / by_epr2['net_cost']\n",
    "measure.head()"
   ]
  },
  {
   "cell_type": "code",
   "execution_count": null,
   "metadata": {
    "scrolled": true
   },
   "outputs": [],
   "source": [
    "measure.plot()\n",
    "plt.savefig(r'gbg_images\\gbg_figx_measures.png')"
   ]
  },
  {
   "cell_type": "markdown",
   "metadata": {},
   "source": [
    "# SystmOne Only"
   ]
  },
  {
   "cell_type": "code",
   "execution_count": null,
   "metadata": {},
   "outputs": [],
   "source": [
    "systmone = by_epr2['possible_savings']['SystmOne']\n",
    "systmone.head()"
   ]
  },
  {
   "cell_type": "code",
   "execution_count": null,
   "metadata": {},
   "outputs": [],
   "source": [
    "f = plt.figure(figsize=(8, 5))\n",
    "layout = gridspec.GridSpec(1, 1, figure=f)\n",
    "ax = plt.subplot(layout[0])\n",
    "ax = systmone.plot(ax=ax)\n",
    "ax.axvline('2018-12-01',color='r',linestyle=':', label='DataLab Identify GBG')\n",
    "ax.axvline('2019-02-01',color='k',linestyle='--', label='SystmOne delpoy fix') ## it was last week of Feb, I think a case for setting as march\n",
    "ax.set_ylabel('total excess costs')\n",
    "ax.set_ylim(0,)\n",
    "ax.legend()\n",
    "plt.savefig('systmone_only.png', format='png', dpi=300,bbox_inches='tight')\n",
    "plt.savefig(r'gbg_images\\gbg_fig5_systmone.png')\n",
    "plt.show()"
   ]
  },
  {
   "cell_type": "markdown",
   "metadata": {},
   "source": [
    "# Top ten GBG chemicals in 2018"
   ]
  },
  {
   "cell_type": "code",
   "execution_count": null,
   "metadata": {},
   "outputs": [],
   "source": [
    "sql = \"\"\"\n",
    "WITH\n",
    "  chem_map AS(\n",
    "  SELECT\n",
    "    DISTINCT chemical_code,\n",
    "    chemical\n",
    "  FROM\n",
    "    ebmdatalab.hscic.bnf)\n",
    "SELECT\n",
    "  SUBSTR(bnf_code,1,9) AS chem_code,\n",
    "  chemical,\n",
    "  SUM(CASE WHEN (possible_savings >= 2\n",
    "    OR possible_savings <=-2) THEN items ELSE 0 END) AS items,\n",
    "  SUM(CASE WHEN (possible_savings >= 2\n",
    "    OR possible_savings <=-2) THEN possible_savings ELSE 0 END) AS excess_spend\n",
    "FROM\n",
    "  ebmdatalab.alex.vw__ghost_generic_measure_paper_2019_07\n",
    "INNER JOIN\n",
    "  ebmdatalab.hscic.practices\n",
    "ON\n",
    "  practice = code\n",
    "  AND setting = 4\n",
    "LEFT JOIN\n",
    "  chem_map\n",
    "ON\n",
    "  SUBSTR(bnf_code,1,9) = chemical_code\n",
    "WHERE\n",
    "  month >= '2018-01-01'\n",
    "  AND month <= '2018-12-01'\n",
    "GROUP BY\n",
    "  chem_code,\n",
    "  chemical\n",
    "ORDER BY\n",
    "  excess_spend DESC\n",
    "\"\"\"\n",
    "by_chem = bq.cached_read(sql, csv_path='by_chem.zip')"
   ]
  },
  {
   "cell_type": "code",
   "execution_count": null,
   "metadata": {},
   "outputs": [],
   "source": [
    "by_chem.head(10)"
   ]
  },
  {
   "cell_type": "code",
   "execution_count": null,
   "metadata": {},
   "outputs": [],
   "source": [
    "by_chem.sort_values('items',ascending=False).head(10)"
   ]
  },
  {
   "cell_type": "code",
   "execution_count": null,
   "metadata": {},
   "outputs": [],
   "source": []
  }
 ],
 "metadata": {
  "kernelspec": {
   "display_name": "Python 3",
   "language": "python",
   "name": "python3"
  },
  "language_info": {
   "codemirror_mode": {
    "name": "ipython",
    "version": 3
   },
   "file_extension": ".py",
   "mimetype": "text/x-python",
   "name": "python",
   "nbconvert_exporter": "python",
   "pygments_lexer": "ipython3",
   "version": "3.6.5"
  }
 },
 "nbformat": 4,
 "nbformat_minor": 2
}
